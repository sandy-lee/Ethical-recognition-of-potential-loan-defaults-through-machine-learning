{
 "cells": [
  {
   "cell_type": "markdown",
   "metadata": {},
   "source": [
    "# Mod 5 Project - Sandy's Notebook"
   ]
  },
  {
   "cell_type": "markdown",
   "metadata": {},
   "source": [
    "## Imports and Data Ingestion"
   ]
  },
  {
   "cell_type": "code",
   "execution_count": 354,
   "metadata": {},
   "outputs": [],
   "source": [
    "#import libraries\n",
    "\n",
    "import mod_5_project_helper as hp\n",
    "import pandas as pd\n",
    "import seaborn as sns\n",
    "import matplotlib.pyplot as plt\n",
    "import numpy as np\n",
    "from sklearn.model_selection import train_test_split\n",
    "from sklearn.model_selection import KFold, cross_validate, cross_val_predict\n",
    "from sklearn.tree import DecisionTreeClassifier\n",
    "from sklearn.preprocessing import OneHotEncoder\n",
    "from sklearn.tree import export_graphviz\n",
    "from sklearn.ensemble import RandomForestClassifier\n",
    "from sklearn.model_selection import GridSearchCV\n",
    "from sklearn.metrics import confusion_matrix\n",
    "from sklearn.metrics import roc_curve, auc\n",
    "from imblearn.over_sampling import SMOTE\n",
    "from sklearn.metrics import roc_auc_score\n",
    "\n",
    "\n",
    "#set environment - REMEMBER TO COPY OVER mod_5_project_helper.py\n",
    "\n",
    "hp.set_environment()\n",
    "%matplotlib inline\n",
    "pd.set_option('display.max_columns', None)\n",
    "# pd.set_option('display.max_rows', None)\n",
    "\n",
    "#initiliase variables\n",
    "\n",
    "%run variables.py\n",
    "\n",
    "#import data\n",
    "\n",
    "df = pd.read_csv(\"data.csv\")"
   ]
  },
  {
   "cell_type": "markdown",
   "metadata": {},
   "source": [
    "## Data Cleanup"
   ]
  },
  {
   "cell_type": "code",
   "execution_count": 246,
   "metadata": {},
   "outputs": [],
   "source": [
    "df.drop_duplicates(inplace = True) #drop 10,728 duplicate rows"
   ]
  },
  {
   "cell_type": "code",
   "execution_count": 247,
   "metadata": {},
   "outputs": [],
   "source": [
    "df.drop(index = 100000, axis = 0, inplace = True) #delete last blank row in the data set"
   ]
  },
  {
   "cell_type": "code",
   "execution_count": 248,
   "metadata": {},
   "outputs": [],
   "source": [
    "df.drop(df[df[\"Current Loan Amount\"] == 99999999].index, inplace = True) #delete 11484 rows where the loan amount is 99999999"
   ]
  },
  {
   "cell_type": "code",
   "execution_count": 249,
   "metadata": {},
   "outputs": [],
   "source": [
    "df.dropna(subset = ['Credit Score'], inplace = True) #delete 19154 rows where Credit Score is missing"
   ]
  },
  {
   "cell_type": "code",
   "execution_count": 250,
   "metadata": {},
   "outputs": [],
   "source": [
    "df.dropna(subset = ['Years in current job'], inplace = True) #delete 2564 rows where Years in current job is missing "
   ]
  },
  {
   "cell_type": "code",
   "execution_count": 251,
   "metadata": {},
   "outputs": [],
   "source": [
    "df[\"Years in current job\"].replace(to_replace = \"year.*\", value = \"\",inplace = True, regex = True) #remove 'years' or 'year' from string"
   ]
  },
  {
   "cell_type": "code",
   "execution_count": 252,
   "metadata": {},
   "outputs": [],
   "source": [
    "df.drop(df[df[\"Home Ownership\"] == \"HaveMortgage\"].index, inplace = True) #delete 120 rows with \"HaveMortgage\" as meaning isn't clear"
   ]
  },
  {
   "cell_type": "code",
   "execution_count": 253,
   "metadata": {},
   "outputs": [],
   "source": [
    "df.dropna(subset = ['Months since last delinquent'], inplace = True) #delete 30,000 rows where data is missing "
   ]
  },
  {
   "cell_type": "code",
   "execution_count": 254,
   "metadata": {},
   "outputs": [],
   "source": [
    "df.drop(columns = \"Maximum Open Credit\", inplace = True) #delete Maximum Open Credit columns as some of these numbers are huge e.g. 798255370.0"
   ]
  },
  {
   "cell_type": "code",
   "execution_count": 255,
   "metadata": {},
   "outputs": [],
   "source": [
    "df = hp.drop_column_keyword_search(df, [\"Loan ID\", \"Customer ID\"]) #delete features 'Loan ID' and 'Customer ID' as they don't add anything"
   ]
  },
  {
   "cell_type": "code",
   "execution_count": 256,
   "metadata": {},
   "outputs": [],
   "source": [
    "df = df.fillna(df.median()) #fill remaining values with "
   ]
  },
  {
   "cell_type": "code",
   "execution_count": 257,
   "metadata": {},
   "outputs": [],
   "source": [
    "#rename and consolidate categorical variables for purpose\n",
    "\n",
    "df[\"Purpose\"].replace({\n",
    "              \"Business Loan\": \"business_loan\",\n",
    "              \"Medical Bills\": \"medical bills\",\n",
    "              \"Educational Expenses\": \"educational_expenses\",\n",
    "              \"Buy House\": \"buy_house\",\n",
    "              \"Buy a Car\": \"buy_a_car\",\n",
    "              \"Debt Consolidation\": \"debt_consolidation\",\n",
    "              \"Home Improvements\": \"home_improvements\",\n",
    "              \"Take a Trip\": \"take_a_trip\",\n",
    "              \"vacation\": \"take_a_trip\",\n",
    "              \"Major Purchase\": \"other\",\n",
    "              \"Other\": \"other\", \n",
    "              \"renewable_energy\": \"home_improvements\",\n",
    "              \"small_business\": \"business_loan\",\n",
    "              \"moving\": \"home_improvements\",\n",
    "              \"major_purchase\": \"major_purchase\",\n",
    "              \"wedding\": \"wedding\"\n",
    "              }, inplace=True)"
   ]
  },
  {
   "cell_type": "code",
   "execution_count": 258,
   "metadata": {},
   "outputs": [],
   "source": [
    "#rename categorical variables for Home Ownership\n",
    "\n",
    "df[\"Home Ownership\"].replace({\n",
    "              \"Home Mortgage\": \"mortgage\",\n",
    "              \"Rent\": \"rent\",\n",
    "              \"Own Home\": \"own_home\",\n",
    "              }, inplace=True)"
   ]
  },
  {
   "cell_type": "code",
   "execution_count": 259,
   "metadata": {},
   "outputs": [],
   "source": [
    "#rename categorical variables for Term\n",
    "\n",
    "df[\"Term\"].replace({\n",
    "              \"Long Term\": \"long_term\",\n",
    "              \"Short Term\": \"short_term\",\n",
    "              }, inplace=True)"
   ]
  },
  {
   "cell_type": "code",
   "execution_count": 260,
   "metadata": {},
   "outputs": [],
   "source": [
    "#rename categorical variables for Loan Status\n",
    "\n",
    "df[\"Loan Status\"].replace({\n",
    "              \"Fully Paid\": \"fully_paid\",\n",
    "              \"Charged Off\": \"default\",\n",
    "              }, inplace=True)"
   ]
  },
  {
   "cell_type": "code",
   "execution_count": 261,
   "metadata": {},
   "outputs": [],
   "source": [
    "#rename columns to make the dataset easier to work with using . notation\n",
    "\n",
    "df.columns = ['loan_status',\n",
    "              'loan_amount',\n",
    "              'term',\n",
    "              'credit_score',\n",
    "              'annual_income',\n",
    "              'years_in_current_job',\n",
    "              'home_ownership',\n",
    "              'loan_purpose',\n",
    "              'monthly_debt',\n",
    "              'years_of_credit_history',\n",
    "              'months_since_last_delinquent',\n",
    "              'number_of_open_accounts',\n",
    "              'number_of_credit_problems',\n",
    "              'current_credit_balance',\n",
    "              'bankruptcies',\n",
    "              'tax_liens']"
   ]
  },
  {
   "cell_type": "code",
   "execution_count": 270,
   "metadata": {},
   "outputs": [],
   "source": [
    "df.reset_index(inplace = True); #reset index\n",
    "df.drop(columns = \"index\", inplace = True) #remove extra index columns as not needed\n",
    "df['loan_status_binary_value'] = np.where(df[\"loan_status\"] == \"fully_paid\",1,0) #add a binary columns for loan_status with 1 = \"fully_paid\" and 0 = \"default\""
   ]
  },
  {
   "cell_type": "markdown",
   "metadata": {},
   "source": [
    "## Cleaned Dataset Information"
   ]
  },
  {
   "cell_type": "code",
   "execution_count": 267,
   "metadata": {},
   "outputs": [
    {
     "name": "stdout",
     "output_type": "stream",
     "text": [
      "<class 'pandas.core.frame.DataFrame'>\n",
      "RangeIndex: 26401 entries, 0 to 26400\n",
      "Data columns (total 17 columns):\n",
      " #   Column                        Non-Null Count  Dtype  \n",
      "---  ------                        --------------  -----  \n",
      " 0   loan_status                   26401 non-null  object \n",
      " 1   loan_amount                   26401 non-null  float64\n",
      " 2   term                          26401 non-null  object \n",
      " 3   credit_score                  26401 non-null  float64\n",
      " 4   annual_income                 26401 non-null  float64\n",
      " 5   years_in_current_job          26401 non-null  object \n",
      " 6   home_ownership                26401 non-null  object \n",
      " 7   loan_purpose                  26401 non-null  object \n",
      " 8   monthly_debt                  26401 non-null  float64\n",
      " 9   years_of_credit_history       26401 non-null  float64\n",
      " 10  months_since_last_delinquent  26401 non-null  float64\n",
      " 11  number_of_open_accounts       26401 non-null  float64\n",
      " 12  number_of_credit_problems     26401 non-null  float64\n",
      " 13  current_credit_balance        26401 non-null  float64\n",
      " 14  bankruptcies                  26401 non-null  float64\n",
      " 15  tax_liens                     26401 non-null  float64\n",
      " 16  loan_status_binary_value      26401 non-null  int64  \n",
      "dtypes: float64(11), int64(1), object(5)\n",
      "memory usage: 3.4+ MB\n"
     ]
    }
   ],
   "source": [
    "df.info()"
   ]
  },
  {
   "cell_type": "code",
   "execution_count": 265,
   "metadata": {},
   "outputs": [
    {
     "data": {
      "text/plain": [
       "(26401, 16)"
      ]
     },
     "execution_count": 265,
     "metadata": {},
     "output_type": "execute_result"
    }
   ],
   "source": [
    "df.shape"
   ]
  },
  {
   "cell_type": "code",
   "execution_count": 268,
   "metadata": {},
   "outputs": [
    {
     "data": {
      "text/html": [
       "<div>\n",
       "<style scoped>\n",
       "    .dataframe tbody tr th:only-of-type {\n",
       "        vertical-align: middle;\n",
       "    }\n",
       "\n",
       "    .dataframe tbody tr th {\n",
       "        vertical-align: top;\n",
       "    }\n",
       "\n",
       "    .dataframe thead th {\n",
       "        text-align: right;\n",
       "    }\n",
       "</style>\n",
       "<table border=\"1\" class=\"dataframe\">\n",
       "  <thead>\n",
       "    <tr style=\"text-align: right;\">\n",
       "      <th></th>\n",
       "      <th>loan_status</th>\n",
       "      <th>loan_amount</th>\n",
       "      <th>term</th>\n",
       "      <th>credit_score</th>\n",
       "      <th>annual_income</th>\n",
       "      <th>years_in_current_job</th>\n",
       "      <th>home_ownership</th>\n",
       "      <th>loan_purpose</th>\n",
       "      <th>monthly_debt</th>\n",
       "      <th>years_of_credit_history</th>\n",
       "      <th>months_since_last_delinquent</th>\n",
       "      <th>number_of_open_accounts</th>\n",
       "      <th>number_of_credit_problems</th>\n",
       "      <th>current_credit_balance</th>\n",
       "      <th>bankruptcies</th>\n",
       "      <th>tax_liens</th>\n",
       "      <th>loan_status_binary_value</th>\n",
       "    </tr>\n",
       "  </thead>\n",
       "  <tbody>\n",
       "    <tr>\n",
       "      <th>0</th>\n",
       "      <td>fully_paid</td>\n",
       "      <td>217646.0</td>\n",
       "      <td>short_term</td>\n",
       "      <td>730.0</td>\n",
       "      <td>1184194.0</td>\n",
       "      <td>&lt; 1</td>\n",
       "      <td>mortgage</td>\n",
       "      <td>debt_consolidation</td>\n",
       "      <td>10855.08</td>\n",
       "      <td>19.6</td>\n",
       "      <td>10.0</td>\n",
       "      <td>13.0</td>\n",
       "      <td>1.0</td>\n",
       "      <td>122170.0</td>\n",
       "      <td>1.0</td>\n",
       "      <td>0.0</td>\n",
       "      <td>1</td>\n",
       "    </tr>\n",
       "    <tr>\n",
       "      <th>1</th>\n",
       "      <td>fully_paid</td>\n",
       "      <td>548746.0</td>\n",
       "      <td>short_term</td>\n",
       "      <td>678.0</td>\n",
       "      <td>2559110.0</td>\n",
       "      <td>2</td>\n",
       "      <td>rent</td>\n",
       "      <td>debt_consolidation</td>\n",
       "      <td>18660.28</td>\n",
       "      <td>22.6</td>\n",
       "      <td>33.0</td>\n",
       "      <td>4.0</td>\n",
       "      <td>0.0</td>\n",
       "      <td>437171.0</td>\n",
       "      <td>0.0</td>\n",
       "      <td>0.0</td>\n",
       "      <td>1</td>\n",
       "    </tr>\n",
       "    <tr>\n",
       "      <th>2</th>\n",
       "      <td>fully_paid</td>\n",
       "      <td>234124.0</td>\n",
       "      <td>short_term</td>\n",
       "      <td>727.0</td>\n",
       "      <td>693234.0</td>\n",
       "      <td>10+</td>\n",
       "      <td>rent</td>\n",
       "      <td>debt_consolidation</td>\n",
       "      <td>14211.24</td>\n",
       "      <td>24.7</td>\n",
       "      <td>46.0</td>\n",
       "      <td>10.0</td>\n",
       "      <td>1.0</td>\n",
       "      <td>28291.0</td>\n",
       "      <td>1.0</td>\n",
       "      <td>0.0</td>\n",
       "      <td>1</td>\n",
       "    </tr>\n",
       "    <tr>\n",
       "      <th>3</th>\n",
       "      <td>fully_paid</td>\n",
       "      <td>666204.0</td>\n",
       "      <td>long_term</td>\n",
       "      <td>723.0</td>\n",
       "      <td>1821967.0</td>\n",
       "      <td>10+</td>\n",
       "      <td>mortgage</td>\n",
       "      <td>debt_consolidation</td>\n",
       "      <td>17612.24</td>\n",
       "      <td>22.0</td>\n",
       "      <td>34.0</td>\n",
       "      <td>15.0</td>\n",
       "      <td>0.0</td>\n",
       "      <td>813694.0</td>\n",
       "      <td>0.0</td>\n",
       "      <td>0.0</td>\n",
       "      <td>1</td>\n",
       "    </tr>\n",
       "    <tr>\n",
       "      <th>4</th>\n",
       "      <td>default</td>\n",
       "      <td>317108.0</td>\n",
       "      <td>long_term</td>\n",
       "      <td>687.0</td>\n",
       "      <td>1133274.0</td>\n",
       "      <td>8</td>\n",
       "      <td>rent</td>\n",
       "      <td>debt_consolidation</td>\n",
       "      <td>9632.81</td>\n",
       "      <td>17.4</td>\n",
       "      <td>53.0</td>\n",
       "      <td>4.0</td>\n",
       "      <td>0.0</td>\n",
       "      <td>60287.0</td>\n",
       "      <td>0.0</td>\n",
       "      <td>0.0</td>\n",
       "      <td>0</td>\n",
       "    </tr>\n",
       "  </tbody>\n",
       "</table>\n",
       "</div>"
      ],
      "text/plain": [
       "  loan_status  loan_amount        term  credit_score  annual_income  \\\n",
       "0  fully_paid     217646.0  short_term         730.0      1184194.0   \n",
       "1  fully_paid     548746.0  short_term         678.0      2559110.0   \n",
       "2  fully_paid     234124.0  short_term         727.0       693234.0   \n",
       "3  fully_paid     666204.0   long_term         723.0      1821967.0   \n",
       "4     default     317108.0   long_term         687.0      1133274.0   \n",
       "\n",
       "  years_in_current_job home_ownership        loan_purpose  monthly_debt  \\\n",
       "0                 < 1        mortgage  debt_consolidation      10855.08   \n",
       "1                   2            rent  debt_consolidation      18660.28   \n",
       "2                 10+            rent  debt_consolidation      14211.24   \n",
       "3                 10+        mortgage  debt_consolidation      17612.24   \n",
       "4                   8            rent  debt_consolidation       9632.81   \n",
       "\n",
       "   years_of_credit_history  months_since_last_delinquent  \\\n",
       "0                     19.6                          10.0   \n",
       "1                     22.6                          33.0   \n",
       "2                     24.7                          46.0   \n",
       "3                     22.0                          34.0   \n",
       "4                     17.4                          53.0   \n",
       "\n",
       "   number_of_open_accounts  number_of_credit_problems  current_credit_balance  \\\n",
       "0                     13.0                        1.0                122170.0   \n",
       "1                      4.0                        0.0                437171.0   \n",
       "2                     10.0                        1.0                 28291.0   \n",
       "3                     15.0                        0.0                813694.0   \n",
       "4                      4.0                        0.0                 60287.0   \n",
       "\n",
       "   bankruptcies  tax_liens  loan_status_binary_value  \n",
       "0           1.0        0.0                         1  \n",
       "1           0.0        0.0                         1  \n",
       "2           1.0        0.0                         1  \n",
       "3           0.0        0.0                         1  \n",
       "4           0.0        0.0                         0  "
      ]
     },
     "execution_count": 268,
     "metadata": {},
     "output_type": "execute_result"
    }
   ],
   "source": [
    "df.head()"
   ]
  },
  {
   "cell_type": "markdown",
   "metadata": {},
   "source": [
    "## Train, test split, sampling and K-folds"
   ]
  },
  {
   "cell_type": "code",
   "execution_count": 273,
   "metadata": {},
   "outputs": [],
   "source": [
    "#define X and y columns\n",
    "\n",
    "X = df.drop(columns = [\"loan_status\", \"loan_status_binary_value\"])\n",
    "y = df.loan_status_binary_value"
   ]
  },
  {
   "cell_type": "code",
   "execution_count": 276,
   "metadata": {},
   "outputs": [],
   "source": [
    "#define train, validation and test data \n",
    "\n",
    "X_train, X_test, y_train, y_test = train_test_split(X,y,test_size=.2,random_state=42)\n",
    "X_train,X_val,y_train,y_val = train_test_split(X_train,y_train,test_size=.2,random_state=42)"
   ]
  },
  {
   "cell_type": "code",
   "execution_count": 280,
   "metadata": {},
   "outputs": [],
   "source": [
    "#make a dataframe of categorical variables - training data\n",
    "\n",
    "X_train_categorical = pd.concat([X_train.term, \n",
    "                                 X_train.years_in_current_job, \n",
    "                                 X_train.home_ownership, \n",
    "                                 X_train.loan_purpose], \n",
    "                                 axis = 1) "
   ]
  },
  {
   "cell_type": "code",
   "execution_count": 281,
   "metadata": {},
   "outputs": [],
   "source": [
    "#make a dataframe of continous variables - training data\n",
    "\n",
    "X_train_continuous = pd.concat([X_train.loan_amount, \n",
    "                                X_train.credit_score, \n",
    "                                X_train.annual_income, \n",
    "                                X_train.monthly_debt, \n",
    "                                X_train.years_of_credit_history,\n",
    "                                X_train.months_since_last_delinquent,\n",
    "                                X_train.number_of_open_accounts,\n",
    "                                X_train.current_credit_balance,\n",
    "                                X_train.bankruptcies,\n",
    "                                X_train.tax_liens], \n",
    "                                axis = 1)"
   ]
  },
  {
   "cell_type": "code",
   "execution_count": 282,
   "metadata": {},
   "outputs": [],
   "source": [
    "#one hot encode categorical variables - training data\n",
    "#for everything but decision trees we should do drop_first = True\n",
    "X_train_one_hot_encoded = pd.get_dummies(X_train_categorical)"
   ]
  },
  {
   "cell_type": "code",
   "execution_count": 283,
   "metadata": {},
   "outputs": [],
   "source": [
    "#stitch the one hot encoded dataframe back together - training data\n",
    "\n",
    "X_train_all_numbers = pd.concat([X_train_continuous, X_train_one_hot_encoded], axis = 1)"
   ]
  },
  {
   "cell_type": "code",
   "execution_count": 285,
   "metadata": {},
   "outputs": [],
   "source": [
    "#make a dataframe of categorical variables - validation data\n",
    "\n",
    "X_val_categorical = pd.concat([X_val.term, \n",
    "                               X_val.years_in_current_job, \n",
    "                               X_val.home_ownership, \n",
    "                               X_val.loan_purpose], \n",
    "                               axis = 1) "
   ]
  },
  {
   "cell_type": "code",
   "execution_count": 286,
   "metadata": {},
   "outputs": [],
   "source": [
    "#make a dataframe of continous variables - validation data\n",
    "\n",
    "X_val_continuous = pd.concat([X_val.loan_amount, \n",
    "                              X_val.credit_score, \n",
    "                              X_val.annual_income, \n",
    "                              X_val.monthly_debt, \n",
    "                              X_val.years_of_credit_history,\n",
    "                              X_val.months_since_last_delinquent,\n",
    "                              X_val.number_of_open_accounts,\n",
    "                              X_val.current_credit_balance,\n",
    "                              X_val.bankruptcies,\n",
    "                              X_val.tax_liens], \n",
    "                              axis = 1)"
   ]
  },
  {
   "cell_type": "code",
   "execution_count": 321,
   "metadata": {},
   "outputs": [],
   "source": [
    "#one hot encode categorical variables - validation data\n",
    "#for everything but decision trees we should do drop_first = True\n",
    "X_val_one_hot_encoded = pd.get_dummies(X_val_categorical)"
   ]
  },
  {
   "cell_type": "code",
   "execution_count": 322,
   "metadata": {},
   "outputs": [],
   "source": [
    "#stitch the one hot encoded dataframe back together - validation data\n",
    "\n",
    "X_val_all_numbers = pd.concat([X_val_continuous, X_val_one_hot_encoded], axis = 1)"
   ]
  },
  {
   "cell_type": "code",
   "execution_count": 323,
   "metadata": {},
   "outputs": [],
   "source": [
    "#use SMOTE to resample training data\n",
    "\n",
    "smote = SMOTE()\n",
    "X_train_resampled, y_train_resampled = smote.fit_sample(X_train_all_numbers, y_train) "
   ]
  },
  {
   "cell_type": "code",
   "execution_count": 324,
   "metadata": {},
   "outputs": [],
   "source": [
    "crossvalidation = KFold(n_splits=10, shuffle=True, random_state=42) #initialise cross validation object"
   ]
  },
  {
   "cell_type": "code",
   "execution_count": 325,
   "metadata": {},
   "outputs": [],
   "source": [
    "#export data for CSVs for ease\n",
    "\n",
    "X_train_resampled.to_csv(\"X_train.csv\")\n",
    "X_val_all_numbers.to_csv(\"X_val.csv\")\n",
    "y_train_resampled.to_csv(\"y_train.csv\")\n",
    "y_val.to_csv(\"y_val.csv\")"
   ]
  },
  {
   "cell_type": "markdown",
   "metadata": {},
   "source": [
    "## Decision Trees"
   ]
  },
  {
   "cell_type": "code",
   "execution_count": 371,
   "metadata": {},
   "outputs": [],
   "source": [
    "#instantiate tree classifier object\n",
    "\n",
    "tree_clf = DecisionTreeClassifier(max_depth = 15, min_samples_leaf = 20, random_state = 42)"
   ]
  },
  {
   "cell_type": "code",
   "execution_count": 372,
   "metadata": {},
   "outputs": [
    {
     "data": {
      "text/plain": [
       "{'fit_time': array([0.42533708, 0.42643094, 0.45026708, 0.45984316, 0.36497498,\n",
       "        0.36605525, 0.39186597, 0.38603878, 0.23203802, 0.23015404]),\n",
       " 'score_time': array([0.00786114, 0.00906706, 0.00831795, 0.01695395, 0.00704813,\n",
       "        0.006598  , 0.00865793, 0.00874805, 0.00493813, 0.00488091]),\n",
       " 'test_score': array([0.84707558, 0.84935008, 0.8659114 , 0.85557295, 0.82994254,\n",
       "        0.84824   , 0.86049997, 0.86538984, 0.86322291, 0.85070755]),\n",
       " 'train_score': array([0.92387469, 0.92504617, 0.92325283, 0.9236792 , 0.92490388,\n",
       "        0.9237908 , 0.92244326, 0.92601064, 0.92489505, 0.92532577])}"
      ]
     },
     "execution_count": 372,
     "metadata": {},
     "output_type": "execute_result"
    }
   ],
   "source": [
    "#fit model using cross validation. Need to check this to make sure the approach is accurate and use ROC curve\n",
    "#with hyperparamter tuning\n",
    "\n",
    "baseline_tree_model = cross_validate(tree_clf, \n",
    "                                X_train_resampled, \n",
    "                                y_train_resampled, \n",
    "                                scoring='roc_auc',\n",
    "                                cv=crossvalidation, \n",
    "                                return_train_score = True,\n",
    "                                n_jobs = -1)\n",
    "\n",
    "baseline_tree_model\n"
   ]
  },
  {
   "cell_type": "code",
   "execution_count": 373,
   "metadata": {},
   "outputs": [
    {
     "data": {
      "text/plain": [
       "DecisionTreeClassifier(ccp_alpha=0.0, class_weight=None, criterion='gini',\n",
       "                       max_depth=15, max_features=None, max_leaf_nodes=None,\n",
       "                       min_impurity_decrease=0.0, min_impurity_split=None,\n",
       "                       min_samples_leaf=20, min_samples_split=2,\n",
       "                       min_weight_fraction_leaf=0.0, presort='deprecated',\n",
       "                       random_state=42, splitter='best')"
      ]
     },
     "execution_count": 373,
     "metadata": {},
     "output_type": "execute_result"
    }
   ],
   "source": [
    "tree_clf.fit(X_train_resampled,y_train_resampled)"
   ]
  },
  {
   "cell_type": "code",
   "execution_count": 374,
   "metadata": {},
   "outputs": [],
   "source": [
    "def scores(model,X_train,X_val,y_train,y_val):\n",
    "    train_prob = model.predict_proba(X_train)[:,1]\n",
    "    val_prob = model.predict_proba(X_val)[:,1]\n",
    "    train = roc_auc_score(y_train,train_prob)\n",
    "    val = roc_auc_score(y_val,val_prob)\n",
    "    print('train:',round(train,2),'test:',round(val,2))"
   ]
  },
  {
   "cell_type": "code",
   "execution_count": 375,
   "metadata": {},
   "outputs": [],
   "source": [
    "def roc_plot(model,X_train,y_train,X_val,y_val):\n",
    "    train_prob = model.predict_proba(X_train)[:,1]\n",
    "    val_prob = model.predict_proba(X_val)[:,1]\n",
    "    plt.figure(figsize=(7,7))\n",
    "    for data in [[y_train, train_prob],[y_val, val_prob]]: # ,[y_test, test_prob]\n",
    "        fpr, tpr, threshold = roc_curve(data[0], data[1])\n",
    "        plt.plot(fpr, tpr)\n",
    "    annot(fpr, tpr, threshold)\n",
    "    plt.plot([0, 1], [0, 1], color='navy', linestyle='--')\n",
    "    plt.ylabel('TPR (power)')\n",
    "    plt.xlabel('FPR (alpha)')\n",
    "    plt.legend(['train','val'])\n",
    "    plt.show()"
   ]
  },
  {
   "cell_type": "code",
   "execution_count": 376,
   "metadata": {},
   "outputs": [],
   "source": [
    "def annot(fpr,tpr,thr):\n",
    "    k=0\n",
    "    for i,j in zip(fpr,tpr):\n",
    "        if k %50 == 0:\n",
    "            plt.annotate(round(thr[k],2),xy=(i,j), textcoords='data')\n",
    "        k+=1"
   ]
  },
  {
   "cell_type": "code",
   "execution_count": 377,
   "metadata": {},
   "outputs": [
    {
     "data": {
      "text/plain": [
       "4224"
      ]
     },
     "execution_count": 377,
     "metadata": {},
     "output_type": "execute_result"
    }
   ],
   "source": [
    "len(y_val)"
   ]
  },
  {
   "cell_type": "code",
   "execution_count": 378,
   "metadata": {},
   "outputs": [
    {
     "name": "stdout",
     "output_type": "stream",
     "text": [
      "train: 0.93 test: 0.68\n"
     ]
    },
    {
     "data": {
      "image/png": "[encoded data removed]",
      "text/plain": [
       "<Figure size 504x504 with 1 Axes>"
      ]
     },
     "metadata": {
      "needs_background": "light"
     },
     "output_type": "display_data"
    }
   ],
   "source": [
    "scores(tree_clf,X_train_resampled,X_val_all_numbers,y_train_resampled,y_val)\n",
    "roc_plot(tree_clf,X_train_resampled,y_train_resampled,X_val_all_numbers,y_val)\n",
    "\n"
   ]
  },
  {
   "cell_type": "code",
   "execution_count": null,
   "metadata": {},
   "outputs": [],
   "source": []
  },
  {
   "cell_type": "code",
   "execution_count": 107,
   "metadata": {},
   "outputs": [],
   "source": [
    "tree_model_y_train_pred = cross_val_predict(tree_clf, \n",
    "                                            X_train_updated,\n",
    "                                            y_train,\n",
    "                                            cv = crossvalidation)"
   ]
  },
  {
   "cell_type": "code",
   "execution_count": 113,
   "metadata": {},
   "outputs": [
    {
     "data": {
      "text/plain": [
       "array([[2690, 3314],\n",
       "       [ 931, 5031]])"
      ]
     },
     "execution_count": 113,
     "metadata": {},
     "output_type": "execute_result"
    }
   ],
   "source": [
    "confusion_matrix(y_train, tree_model_y_train_pred)"
   ]
  },
  {
   "cell_type": "code",
   "execution_count": null,
   "metadata": {},
   "outputs": [],
   "source": [
    "#confusion matrix layout:\n",
    "\n",
    "#  TN  FP\n",
    "#  FN  TP\n",
    "\n",
    "# So to summarise:\n",
    "\n",
    "#1) - TN - We correctly identified 2690 as being paid loans when they were \n",
    "#2) - TP - We correctly identfied 5031 loans as being default when they are\n",
    "#3) - FP - We incorrectly indentified 3314 loans as being paid when they aren't\n",
    "#4) - FN - We incorrectly indentifed 931 loans as being default when they aren't"
   ]
  },
  {
   "cell_type": "code",
   "execution_count": 150,
   "metadata": {},
   "outputs": [
    {
     "data": {
      "text/plain": [
       "DecisionTreeClassifier(ccp_alpha=0.0, class_weight=None, criterion='gini',\n",
       "                       max_depth=3, max_features=None, max_leaf_nodes=None,\n",
       "                       min_impurity_decrease=0.0, min_impurity_split=None,\n",
       "                       min_samples_leaf=10, min_samples_split=2,\n",
       "                       min_weight_fraction_leaf=0.0, presort='deprecated',\n",
       "                       random_state=42, splitter='best')"
      ]
     },
     "execution_count": 150,
     "metadata": {},
     "output_type": "execute_result"
    }
   ],
   "source": [
    "tree_clf.fit(X_train_updated,y_train)"
   ]
  },
  {
   "cell_type": "code",
   "execution_count": 153,
   "metadata": {},
   "outputs": [],
   "source": [
    "y_train_score = tree_clf.predict_proba(X_train_updated)"
   ]
  },
  {
   "cell_type": "code",
   "execution_count": 156,
   "metadata": {},
   "outputs": [
    {
     "ename": "ValueError",
     "evalue": "y_true takes value in {'default', 'fully_paid'} and pos_label is not specified: either make y_true take value in {0, 1} or {-1, 1} or pass pos_label explicitly.",
     "output_type": "error",
     "traceback": [
      "\u001b[0;31m---------------------------------------------------------------------------\u001b[0m",
      "\u001b[0;31mValueError\u001b[0m                                Traceback (most recent call last)",
      "\u001b[0;32m<ipython-input-156-cd7380629000>\u001b[0m in \u001b[0;36m<module>\u001b[0;34m\u001b[0m\n\u001b[0;32m----> 1\u001b[0;31m \u001b[0mtrain_fpr\u001b[0m\u001b[0;34m,\u001b[0m \u001b[0mtrain_tpr\u001b[0m\u001b[0;34m,\u001b[0m \u001b[0mthresholds\u001b[0m \u001b[0;34m=\u001b[0m \u001b[0mroc_curve\u001b[0m\u001b[0;34m(\u001b[0m\u001b[0my_train\u001b[0m\u001b[0;34m,\u001b[0m \u001b[0my_train_score\u001b[0m\u001b[0;34m[\u001b[0m\u001b[0;34m:\u001b[0m\u001b[0;34m,\u001b[0m\u001b[0;36m1\u001b[0m\u001b[0;34m]\u001b[0m\u001b[0;34m)\u001b[0m\u001b[0;34m\u001b[0m\u001b[0m\n\u001b[0m",
      "\u001b[0;32m/opt/anaconda3/envs/learn-env/lib/python3.6/site-packages/sklearn/metrics/_ranking.py\u001b[0m in \u001b[0;36mroc_curve\u001b[0;34m(y_true, y_score, pos_label, sample_weight, drop_intermediate)\u001b[0m\n\u001b[1;32m    769\u001b[0m     \"\"\"\n\u001b[1;32m    770\u001b[0m     fps, tps, thresholds = _binary_clf_curve(\n\u001b[0;32m--> 771\u001b[0;31m         y_true, y_score, pos_label=pos_label, sample_weight=sample_weight)\n\u001b[0m\u001b[1;32m    772\u001b[0m \u001b[0;34m\u001b[0m\u001b[0m\n\u001b[1;32m    773\u001b[0m     \u001b[0;31m# Attempt to drop thresholds corresponding to points in between and\u001b[0m\u001b[0;34m\u001b[0m\u001b[0;34m\u001b[0m\u001b[0m\n",
      "\u001b[0;32m/opt/anaconda3/envs/learn-env/lib/python3.6/site-packages/sklearn/metrics/_ranking.py\u001b[0m in \u001b[0;36m_binary_clf_curve\u001b[0;34m(y_true, y_score, pos_label, sample_weight)\u001b[0m\n\u001b[1;32m    562\u001b[0m                          \u001b[0;34m\"take value in {{0, 1}} or {{-1, 1}} or \"\u001b[0m\u001b[0;34m\u001b[0m\u001b[0m\n\u001b[1;32m    563\u001b[0m                          \"pass pos_label explicitly.\".format(\n\u001b[0;32m--> 564\u001b[0;31m                              classes_repr=classes_repr))\n\u001b[0m\u001b[1;32m    565\u001b[0m     \u001b[0;32melif\u001b[0m \u001b[0mpos_label\u001b[0m \u001b[0;32mis\u001b[0m \u001b[0;32mNone\u001b[0m\u001b[0;34m:\u001b[0m\u001b[0;34m\u001b[0m\u001b[0m\n\u001b[1;32m    566\u001b[0m         \u001b[0mpos_label\u001b[0m \u001b[0;34m=\u001b[0m \u001b[0;36m1.\u001b[0m\u001b[0;34m\u001b[0m\u001b[0m\n",
      "\u001b[0;31mValueError\u001b[0m: y_true takes value in {'default', 'fully_paid'} and pos_label is not specified: either make y_true take value in {0, 1} or {-1, 1} or pass pos_label explicitly."
     ]
    }
   ],
   "source": [
    "train_fpr, train_tpr, thresholds = roc_curve(y_train, y_train_score[:,1])"
   ]
  },
  {
   "cell_type": "code",
   "execution_count": null,
   "metadata": {},
   "outputs": [],
   "source": []
  },
  {
   "cell_type": "code",
   "execution_count": null,
   "metadata": {},
   "outputs": [],
   "source": []
  },
  {
   "cell_type": "code",
   "execution_count": 55,
   "metadata": {},
   "outputs": [],
   "source": [
    "#export tree to a dot file so it can be converted to an image using the CLI:\n",
    "# dot -Tpng tree.dot -o tree.png\n",
    "\n",
    "export_graphviz(tree_clf, \n",
    "                out_file = (\"tree.dot\"), \n",
    "                feature_names = X_train_updated.columns, \n",
    "                class_names = y_train.values, \n",
    "                rounded = True, \n",
    "                filled = True)"
   ]
  },
  {
   "cell_type": "code",
   "execution_count": 36,
   "metadata": {},
   "outputs": [],
   "source": [
    "rnd_clf = RandomForestClassifier(n_estimators = 500,\n",
    "                               max_leaf_nodes = 16,\n",
    "                               n_jobs = -1,\n",
    "                               random_state = 42)"
   ]
  },
  {
   "cell_type": "code",
   "execution_count": 123,
   "metadata": {},
   "outputs": [
    {
     "data": {
      "text/plain": [
       "{'fit_time': array([2.62067509, 2.37249088, 2.73847508, 2.43558884, 2.38792706,\n",
       "        2.4939611 , 2.34673882, 2.5359509 , 2.35448909, 2.36896491]),\n",
       " 'score_time': array([0.21141291, 0.21368885, 0.21379304, 0.2152729 , 0.212672  ,\n",
       "        0.21272492, 0.21909308, 0.21522403, 0.21227288, 0.21321702]),\n",
       " 'test_score': array([0.65162907, 0.6566416 , 0.64076859, 0.65079365, 0.63659148,\n",
       "        0.66499582, 0.65133779, 0.66973244, 0.66471572, 0.65217391]),\n",
       " 'train_score': array([0.66700715, 0.66366422, 0.66635714, 0.6659857 , 0.66607856,\n",
       "        0.6634785 , 0.66666667, 0.6632312 , 0.6643454 , 0.66573816])}"
      ]
     },
     "execution_count": 123,
     "metadata": {},
     "output_type": "execute_result"
    }
   ],
   "source": [
    "baseline_forest_model = cross_validate(rnd_clf,\n",
    "                                       X_train_updated,\n",
    "                                       y_train,\n",
    "                                       cv = crossvalidation,\n",
    "                                       return_train_score = True)\n",
    "baseline_forest_model"
   ]
  },
  {
   "cell_type": "code",
   "execution_count": 37,
   "metadata": {},
   "outputs": [],
   "source": [
    "grid_params = [{'n_estimators' : [500, 600, 700, 800, 900, 1000],\n",
    "                'max_features' : [2, 4, 6, 8, 10, 12, 14, 16, 18, 20]}]"
   ]
  },
  {
   "cell_type": "code",
   "execution_count": 41,
   "metadata": {},
   "outputs": [],
   "source": [
    "grid_search_random_forest = GridSearchCV(rnd_clf, grid_params, cv = crossvalidation, return_train_score = True)"
   ]
  },
  {
   "cell_type": "code",
   "execution_count": 53,
   "metadata": {},
   "outputs": [
    {
     "data": {
      "text/plain": [
       "GridSearchCV(cv=KFold(n_splits=10, random_state=42, shuffle=True),\n",
       "             error_score=nan,\n",
       "             estimator=RandomForestClassifier(bootstrap=True, ccp_alpha=0.0,\n",
       "                                              class_weight=None,\n",
       "                                              criterion='gini', max_depth=None,\n",
       "                                              max_features='auto',\n",
       "                                              max_leaf_nodes=16,\n",
       "                                              max_samples=None,\n",
       "                                              min_impurity_decrease=0.0,\n",
       "                                              min_impurity_split=None,\n",
       "                                              min_samples_leaf=1,\n",
       "                                              min_samples_split=2,\n",
       "                                              min_weight_fraction_leaf=0.0,\n",
       "                                              n_estimators=500, n_jobs=-1,\n",
       "                                              oob_score=False, random_state=42,\n",
       "                                              verbose=0, warm_start=False),\n",
       "             iid='deprecated', n_jobs=None,\n",
       "             param_grid=[{'max_features': [2, 4, 6, 8, 10, 12, 14, 16, 18, 20],\n",
       "                          'n_estimators': [500, 600, 700, 800, 900, 1000]}],\n",
       "             pre_dispatch='2*n_jobs', refit=True, return_train_score=True,\n",
       "             scoring=None, verbose=0)"
      ]
     },
     "execution_count": 53,
     "metadata": {},
     "output_type": "execute_result"
    }
   ],
   "source": [
    "grid_search_random_forest.fit(X_train_updated, y_train)"
   ]
  },
  {
   "cell_type": "code",
   "execution_count": 54,
   "metadata": {},
   "outputs": [
    {
     "data": {
      "text/plain": [
       "{'max_features': 18, 'n_estimators': 1000}"
      ]
     },
     "execution_count": 54,
     "metadata": {},
     "output_type": "execute_result"
    }
   ],
   "source": [
    "grid_search_random_forest.best_params_"
   ]
  },
  {
   "cell_type": "code",
   "execution_count": 55,
   "metadata": {},
   "outputs": [
    {
     "data": {
      "text/plain": [
       "{'mean_fit_time': array([ 2.21225586,  2.0878819 ,  2.44974189,  2.80376911,  2.9700597 ,\n",
       "         3.50117252,  2.17909062,  2.57878382,  2.89939718,  3.44554627,\n",
       "         3.74630961,  4.11255682,  2.69546959,  2.79165008,  3.22223573,\n",
       "         3.79034204,  4.00761888,  4.75887332,  2.75479052,  3.54295464,\n",
       "         3.86126466,  4.28136194,  4.87407742,  5.43022313,  3.13828785,\n",
       "         3.70023835,  4.30339413,  4.95367599,  5.48059928,  6.37810421,\n",
       "         4.7456418 ,  5.84136319,  5.04358559,  5.59796865,  6.29653046,\n",
       "         6.86260378,  3.94972184,  4.61423905,  5.48236017,  6.51252835,\n",
       "         6.83500726,  7.85078938,  4.3424279 ,  5.1191236 ,  5.92152264,\n",
       "         6.7282346 ,  7.52062311,  8.68328595,  4.91735568,  5.56901319,\n",
       "         7.11079309,  7.33125362,  8.31801004,  9.32897203,  5.09386921,\n",
       "         6.41328359,  7.10741868,  8.23026955,  9.16182854, 10.09367759]),\n",
       " 'std_fit_time': array([0.99758259, 0.09517019, 0.1545531 , 0.16646824, 0.18970981,\n",
       "        0.40384292, 0.06479636, 0.06969382, 0.09540811, 0.20522045,\n",
       "        0.27710529, 0.13996627, 0.22375193, 0.06367084, 0.05771752,\n",
       "        0.1183544 , 0.04480936, 0.26158995, 0.0962643 , 0.42198055,\n",
       "        0.24755699, 0.0700326 , 0.25621952, 0.20381375, 0.05380807,\n",
       "        0.03861959, 0.02661916, 0.09862378, 0.04819518, 0.45642538,\n",
       "        0.86300818, 1.56229668, 0.4322557 , 0.25334385, 0.2410471 ,\n",
       "        0.09451998, 0.10163112, 0.03703807, 0.1978176 , 0.67495433,\n",
       "        0.08025832, 0.34588117, 0.06613414, 0.10298761, 0.1667015 ,\n",
       "        0.12288899, 0.19351123, 0.90511766, 0.5681774 , 0.10819272,\n",
       "        1.5344523 , 0.12007217, 0.20332106, 0.24432854, 0.05556668,\n",
       "        0.53711836, 0.07534352, 0.22256777, 0.07767887, 0.07033506]),\n",
       " 'mean_score_time': array([0.24627404, 0.29517517, 0.31586442, 0.35531883, 0.39449899,\n",
       "        0.41700859, 0.21283281, 0.29291587, 0.31561897, 0.33481071,\n",
       "        0.41663048, 0.45799406, 0.25824115, 0.26080661, 0.3271421 ,\n",
       "        0.33161681, 0.3866996 , 0.44069538, 0.22953138, 0.28265743,\n",
       "        0.32172003, 0.33372021, 0.35282865, 0.43007593, 0.22104011,\n",
       "        0.25923386, 0.32532113, 0.32435188, 0.36723893, 0.45007081,\n",
       "        0.27970941, 0.29676733, 0.32379353, 0.33609726, 0.36604035,\n",
       "        0.42868381, 0.21862061, 0.22786047, 0.32369282, 0.33613765,\n",
       "        0.34510982, 0.42885034, 0.21718016, 0.25107517, 0.32174394,\n",
       "        0.32359004, 0.36475298, 0.42853758, 0.23053699, 0.25041277,\n",
       "        0.32102273, 0.32211354, 0.35613887, 0.41760576, 0.23245776,\n",
       "        0.28948829, 0.32461815, 0.33278365, 0.34529743, 0.42789629]),\n",
       " 'std_score_time': array([0.06406457, 0.0412909 , 0.0026129 , 0.06663798, 0.0400903 ,\n",
       "        0.00329253, 0.00250404, 0.04214593, 0.00415185, 0.04109805,\n",
       "        0.00346422, 0.06385136, 0.09822011, 0.0506766 , 0.00411402,\n",
       "        0.03319118, 0.07078077, 0.03614388, 0.03065639, 0.04986633,\n",
       "        0.00727905, 0.03241026, 0.04957556, 0.00448515, 0.00352711,\n",
       "        0.04989018, 0.00484526, 0.00382202, 0.06834751, 0.0370157 ,\n",
       "        0.13143485, 0.04198093, 0.00732007, 0.03067959, 0.05084583,\n",
       "        0.00622235, 0.00346842, 0.02916977, 0.00387716, 0.03453893,\n",
       "        0.04030445, 0.00596889, 0.00293882, 0.0466927 , 0.00369941,\n",
       "        0.00437164, 0.05197071, 0.0042207 , 0.03011001, 0.04942377,\n",
       "        0.00359157, 0.00378939, 0.04525836, 0.02986418, 0.03172481,\n",
       "        0.04761091, 0.00354441, 0.03048264, 0.03786792, 0.00521506]),\n",
       " 'param_max_features': masked_array(data=[2, 2, 2, 2, 2, 2, 4, 4, 4, 4, 4, 4, 6, 6, 6, 6, 6, 6,\n",
       "                    8, 8, 8, 8, 8, 8, 10, 10, 10, 10, 10, 10, 12, 12, 12,\n",
       "                    12, 12, 12, 14, 14, 14, 14, 14, 14, 16, 16, 16, 16, 16,\n",
       "                    16, 18, 18, 18, 18, 18, 18, 20, 20, 20, 20, 20, 20],\n",
       "              mask=[False, False, False, False, False, False, False, False,\n",
       "                    False, False, False, False, False, False, False, False,\n",
       "                    False, False, False, False, False, False, False, False,\n",
       "                    False, False, False, False, False, False, False, False,\n",
       "                    False, False, False, False, False, False, False, False,\n",
       "                    False, False, False, False, False, False, False, False,\n",
       "                    False, False, False, False, False, False, False, False,\n",
       "                    False, False, False, False],\n",
       "        fill_value='?',\n",
       "             dtype=object),\n",
       " 'param_n_estimators': masked_array(data=[500, 600, 700, 800, 900, 1000, 500, 600, 700, 800, 900,\n",
       "                    1000, 500, 600, 700, 800, 900, 1000, 500, 600, 700,\n",
       "                    800, 900, 1000, 500, 600, 700, 800, 900, 1000, 500,\n",
       "                    600, 700, 800, 900, 1000, 500, 600, 700, 800, 900,\n",
       "                    1000, 500, 600, 700, 800, 900, 1000, 500, 600, 700,\n",
       "                    800, 900, 1000, 500, 600, 700, 800, 900, 1000],\n",
       "              mask=[False, False, False, False, False, False, False, False,\n",
       "                    False, False, False, False, False, False, False, False,\n",
       "                    False, False, False, False, False, False, False, False,\n",
       "                    False, False, False, False, False, False, False, False,\n",
       "                    False, False, False, False, False, False, False, False,\n",
       "                    False, False, False, False, False, False, False, False,\n",
       "                    False, False, False, False, False, False, False, False,\n",
       "                    False, False, False, False],\n",
       "        fill_value='?',\n",
       "             dtype=object),\n",
       " 'params': [{'max_features': 2, 'n_estimators': 500},\n",
       "  {'max_features': 2, 'n_estimators': 600},\n",
       "  {'max_features': 2, 'n_estimators': 700},\n",
       "  {'max_features': 2, 'n_estimators': 800},\n",
       "  {'max_features': 2, 'n_estimators': 900},\n",
       "  {'max_features': 2, 'n_estimators': 1000},\n",
       "  {'max_features': 4, 'n_estimators': 500},\n",
       "  {'max_features': 4, 'n_estimators': 600},\n",
       "  {'max_features': 4, 'n_estimators': 700},\n",
       "  {'max_features': 4, 'n_estimators': 800},\n",
       "  {'max_features': 4, 'n_estimators': 900},\n",
       "  {'max_features': 4, 'n_estimators': 1000},\n",
       "  {'max_features': 6, 'n_estimators': 500},\n",
       "  {'max_features': 6, 'n_estimators': 600},\n",
       "  {'max_features': 6, 'n_estimators': 700},\n",
       "  {'max_features': 6, 'n_estimators': 800},\n",
       "  {'max_features': 6, 'n_estimators': 900},\n",
       "  {'max_features': 6, 'n_estimators': 1000},\n",
       "  {'max_features': 8, 'n_estimators': 500},\n",
       "  {'max_features': 8, 'n_estimators': 600},\n",
       "  {'max_features': 8, 'n_estimators': 700},\n",
       "  {'max_features': 8, 'n_estimators': 800},\n",
       "  {'max_features': 8, 'n_estimators': 900},\n",
       "  {'max_features': 8, 'n_estimators': 1000},\n",
       "  {'max_features': 10, 'n_estimators': 500},\n",
       "  {'max_features': 10, 'n_estimators': 600},\n",
       "  {'max_features': 10, 'n_estimators': 700},\n",
       "  {'max_features': 10, 'n_estimators': 800},\n",
       "  {'max_features': 10, 'n_estimators': 900},\n",
       "  {'max_features': 10, 'n_estimators': 1000},\n",
       "  {'max_features': 12, 'n_estimators': 500},\n",
       "  {'max_features': 12, 'n_estimators': 600},\n",
       "  {'max_features': 12, 'n_estimators': 700},\n",
       "  {'max_features': 12, 'n_estimators': 800},\n",
       "  {'max_features': 12, 'n_estimators': 900},\n",
       "  {'max_features': 12, 'n_estimators': 1000},\n",
       "  {'max_features': 14, 'n_estimators': 500},\n",
       "  {'max_features': 14, 'n_estimators': 600},\n",
       "  {'max_features': 14, 'n_estimators': 700},\n",
       "  {'max_features': 14, 'n_estimators': 800},\n",
       "  {'max_features': 14, 'n_estimators': 900},\n",
       "  {'max_features': 14, 'n_estimators': 1000},\n",
       "  {'max_features': 16, 'n_estimators': 500},\n",
       "  {'max_features': 16, 'n_estimators': 600},\n",
       "  {'max_features': 16, 'n_estimators': 700},\n",
       "  {'max_features': 16, 'n_estimators': 800},\n",
       "  {'max_features': 16, 'n_estimators': 900},\n",
       "  {'max_features': 16, 'n_estimators': 1000},\n",
       "  {'max_features': 18, 'n_estimators': 500},\n",
       "  {'max_features': 18, 'n_estimators': 600},\n",
       "  {'max_features': 18, 'n_estimators': 700},\n",
       "  {'max_features': 18, 'n_estimators': 800},\n",
       "  {'max_features': 18, 'n_estimators': 900},\n",
       "  {'max_features': 18, 'n_estimators': 1000},\n",
       "  {'max_features': 20, 'n_estimators': 500},\n",
       "  {'max_features': 20, 'n_estimators': 600},\n",
       "  {'max_features': 20, 'n_estimators': 700},\n",
       "  {'max_features': 20, 'n_estimators': 800},\n",
       "  {'max_features': 20, 'n_estimators': 900},\n",
       "  {'max_features': 20, 'n_estimators': 1000}],\n",
       " 'split0_test_score': array([0.64578112, 0.64828739, 0.64828739, 0.64912281, 0.64745196,\n",
       "        0.65079365, 0.65162907, 0.65413534, 0.65413534, 0.65497076,\n",
       "        0.65497076, 0.65162907, 0.65162907, 0.65079365, 0.65079365,\n",
       "        0.64995823, 0.65079365, 0.65162907, 0.65580618, 0.65497076,\n",
       "        0.65580618, 0.65747703, 0.65497076, 0.65329992, 0.65413534,\n",
       "        0.65580618, 0.6566416 , 0.65580618, 0.65580618, 0.6566416 ,\n",
       "        0.65580618, 0.65497076, 0.65413534, 0.6566416 , 0.6566416 ,\n",
       "        0.65831245, 0.65914787, 0.65831245, 0.66081871, 0.65998329,\n",
       "        0.66081871, 0.66165414, 0.66081871, 0.66081871, 0.66248956,\n",
       "        0.66081871, 0.66081871, 0.66165414, 0.66499582, 0.6641604 ,\n",
       "        0.66332498, 0.66248956, 0.66332498, 0.6641604 , 0.66248956,\n",
       "        0.66081871, 0.66081871, 0.66248956, 0.66332498, 0.66248956]),\n",
       " 'split1_test_score': array([0.65998329, 0.65831245, 0.65831245, 0.6566416 , 0.65831245,\n",
       "        0.65831245, 0.6566416 , 0.65497076, 0.6566416 , 0.6566416 ,\n",
       "        0.65497076, 0.65497076, 0.6566416 , 0.65914787, 0.65998329,\n",
       "        0.66081871, 0.66165414, 0.65998329, 0.66081871, 0.65998329,\n",
       "        0.65998329, 0.66081871, 0.66165414, 0.66248956, 0.66332498,\n",
       "        0.66165414, 0.66081871, 0.66165414, 0.66165414, 0.66248956,\n",
       "        0.65580618, 0.65580618, 0.65497076, 0.65497076, 0.6566416 ,\n",
       "        0.65580618, 0.65747703, 0.65747703, 0.65998329, 0.66081871,\n",
       "        0.66165414, 0.66165414, 0.66081871, 0.66332498, 0.66248956,\n",
       "        0.66165414, 0.66165414, 0.66165414, 0.65998329, 0.66248956,\n",
       "        0.66332498, 0.66248956, 0.6641604 , 0.66332498, 0.67000835,\n",
       "        0.66833751, 0.67000835, 0.66917293, 0.66917293, 0.66833751]),\n",
       " 'split2_test_score': array([0.6449457 , 0.64411028, 0.64411028, 0.64661654, 0.64661654,\n",
       "        0.64745196, 0.63909774, 0.64160401, 0.64076859, 0.64243943,\n",
       "        0.64160401, 0.64243943, 0.64076859, 0.63909774, 0.63909774,\n",
       "        0.63909774, 0.64160401, 0.64327485, 0.64912281, 0.64995823,\n",
       "        0.64661654, 0.64661654, 0.64578112, 0.64745196, 0.64745196,\n",
       "        0.64912281, 0.64661654, 0.64828739, 0.64828739, 0.64828739,\n",
       "        0.64578112, 0.64828739, 0.64745196, 0.64995823, 0.64995823,\n",
       "        0.64828739, 0.64578112, 0.6449457 , 0.64160401, 0.64243943,\n",
       "        0.64243943, 0.64243943, 0.64411028, 0.64578112, 0.64661654,\n",
       "        0.6449457 , 0.64578112, 0.64411028, 0.64912281, 0.64912281,\n",
       "        0.64828739, 0.64995823, 0.64995823, 0.65162907, 0.64327485,\n",
       "        0.64995823, 0.64578112, 0.64661654, 0.64745196, 0.64661654]),\n",
       " 'split3_test_score': array([0.64411028, 0.64160401, 0.64243943, 0.64578112, 0.64160401,\n",
       "        0.64243943, 0.64912281, 0.65162907, 0.65162907, 0.65162907,\n",
       "        0.65246449, 0.65246449, 0.65079365, 0.65079365, 0.65162907,\n",
       "        0.65162907, 0.65162907, 0.65246449, 0.65162907, 0.65246449,\n",
       "        0.65329992, 0.65329992, 0.65329992, 0.65329992, 0.65747703,\n",
       "        0.65580618, 0.6566416 , 0.65747703, 0.65747703, 0.65831245,\n",
       "        0.66081871, 0.65747703, 0.65747703, 0.65831245, 0.65747703,\n",
       "        0.65831245, 0.66165414, 0.66081871, 0.6641604 , 0.66499582,\n",
       "        0.6641604 , 0.66499582, 0.66750209, 0.66917293, 0.66917293,\n",
       "        0.66833751, 0.66750209, 0.67084378, 0.66750209, 0.66833751,\n",
       "        0.66750209, 0.66750209, 0.66666667, 0.66917293, 0.66833751,\n",
       "        0.66750209, 0.66583124, 0.66666667, 0.66666667, 0.66666667]),\n",
       " 'split4_test_score': array([0.63575606, 0.63659148, 0.64160401, 0.63909774, 0.64327485,\n",
       "        0.64160401, 0.6374269 , 0.63909774, 0.63826232, 0.63826232,\n",
       "        0.6374269 , 0.63659148, 0.63659148, 0.63909774, 0.63826232,\n",
       "        0.63909774, 0.64160401, 0.64076859, 0.63575606, 0.63492063,\n",
       "        0.63993317, 0.63909774, 0.63993317, 0.63826232, 0.63575606,\n",
       "        0.63659148, 0.63826232, 0.63826232, 0.63659148, 0.63826232,\n",
       "        0.6374269 , 0.6374269 , 0.63659148, 0.63492063, 0.63408521,\n",
       "        0.6374269 , 0.63909774, 0.63826232, 0.63826232, 0.63826232,\n",
       "        0.64076859, 0.64160401, 0.63826232, 0.6374269 , 0.63826232,\n",
       "        0.63826232, 0.63909774, 0.63909774, 0.6449457 , 0.64411028,\n",
       "        0.64327485, 0.64327485, 0.64243943, 0.64243943, 0.64828739,\n",
       "        0.64828739, 0.64912281, 0.64912281, 0.64912281, 0.64912281]),\n",
       " 'split5_test_score': array([0.6641604 , 0.6641604 , 0.66332498, 0.66833751, 0.66750209,\n",
       "        0.66750209, 0.66332498, 0.66583124, 0.66332498, 0.66666667,\n",
       "        0.66332498, 0.66499582, 0.66499582, 0.66666667, 0.66583124,\n",
       "        0.66332498, 0.66499582, 0.6641604 , 0.67000835, 0.66917293,\n",
       "        0.66666667, 0.66833751, 0.66750209, 0.66917293, 0.67000835,\n",
       "        0.66833751, 0.67084378, 0.67084378, 0.67084378, 0.66917293,\n",
       "        0.66917293, 0.66833751, 0.66750209, 0.67000835, 0.67084378,\n",
       "        0.6716792 , 0.67000835, 0.66917293, 0.67084378, 0.67251462,\n",
       "        0.67251462, 0.67251462, 0.67000835, 0.66917293, 0.67084378,\n",
       "        0.66917293, 0.67000835, 0.67000835, 0.66833751, 0.66917293,\n",
       "        0.66917293, 0.66833751, 0.66833751, 0.66833751, 0.67000835,\n",
       "        0.66917293, 0.67000835, 0.66917293, 0.66917293, 0.66917293]),\n",
       " 'split6_test_score': array([0.65217391, 0.65133779, 0.65384615, 0.65635452, 0.65384615,\n",
       "        0.65551839, 0.65050167, 0.65217391, 0.65133779, 0.65050167,\n",
       "        0.65050167, 0.64882943, 0.65133779, 0.64966555, 0.64966555,\n",
       "        0.65217391, 0.64966555, 0.64966555, 0.64715719, 0.64715719,\n",
       "        0.64548495, 0.64715719, 0.64715719, 0.64632107, 0.64966555,\n",
       "        0.64882943, 0.64799331, 0.64966555, 0.64966555, 0.64882943,\n",
       "        0.64966555, 0.64882943, 0.64882943, 0.64882943, 0.64799331,\n",
       "        0.64715719, 0.65635452, 0.65635452, 0.65551839, 0.65635452,\n",
       "        0.65635452, 0.65468227, 0.65886288, 0.659699  , 0.66137124,\n",
       "        0.66137124, 0.66137124, 0.66220736, 0.65886288, 0.65802676,\n",
       "        0.65802676, 0.65802676, 0.65635452, 0.65635452, 0.65719064,\n",
       "        0.65802676, 0.65802676, 0.659699  , 0.66053512, 0.659699  ]),\n",
       " 'split7_test_score': array([0.67558528, 0.6764214 , 0.67558528, 0.67725753, 0.67809365,\n",
       "        0.67809365, 0.67307692, 0.67391304, 0.67558528, 0.67391304,\n",
       "        0.67558528, 0.67474916, 0.66973244, 0.66889632, 0.66889632,\n",
       "        0.66973244, 0.67056856, 0.67140468, 0.67056856, 0.66973244,\n",
       "        0.67056856, 0.67056856, 0.66889632, 0.67056856, 0.6722408 ,\n",
       "        0.6722408 , 0.6722408 , 0.67391304, 0.67391304, 0.67391304,\n",
       "        0.66889632, 0.66973244, 0.6680602 , 0.66973244, 0.67056856,\n",
       "        0.6722408 , 0.66137124, 0.66304348, 0.66220736, 0.66220736,\n",
       "        0.66137124, 0.66220736, 0.65719064, 0.65886288, 0.659699  ,\n",
       "        0.659699  , 0.66053512, 0.65886288, 0.66053512, 0.66137124,\n",
       "        0.66053512, 0.66304348, 0.66304348, 0.66304348, 0.65719064,\n",
       "        0.65802676, 0.65719064, 0.65802676, 0.65802676, 0.65719064]),\n",
       " 'split8_test_score': array([0.65635452, 0.65551839, 0.65635452, 0.66304348, 0.66471572,\n",
       "        0.66471572, 0.66220736, 0.66220736, 0.659699  , 0.66220736,\n",
       "        0.66137124, 0.66304348, 0.66471572, 0.66638796, 0.66722408,\n",
       "        0.66722408, 0.66555184, 0.6680602 , 0.66638796, 0.6680602 ,\n",
       "        0.66889632, 0.66889632, 0.66889632, 0.66555184, 0.66973244,\n",
       "        0.66638796, 0.6680602 , 0.66889632, 0.66973244, 0.66722408,\n",
       "        0.66304348, 0.66304348, 0.66220736, 0.66471572, 0.6638796 ,\n",
       "        0.66137124, 0.66722408, 0.66304348, 0.66304348, 0.66137124,\n",
       "        0.6638796 , 0.66304348, 0.66973244, 0.66973244, 0.67140468,\n",
       "        0.67140468, 0.6722408 , 0.6722408 , 0.66555184, 0.66722408,\n",
       "        0.66889632, 0.67056856, 0.66889632, 0.66973244, 0.6638796 ,\n",
       "        0.6638796 , 0.66220736, 0.66137124, 0.66220736, 0.66137124]),\n",
       " 'split9_test_score': array([0.65050167, 0.65217391, 0.65133779, 0.65468227, 0.65301003,\n",
       "        0.65384615, 0.65719064, 0.65719064, 0.65635452, 0.65719064,\n",
       "        0.65719064, 0.65635452, 0.65217391, 0.65050167, 0.65050167,\n",
       "        0.65384615, 0.65384615, 0.65635452, 0.65635452, 0.65551839,\n",
       "        0.65551839, 0.65719064, 0.65468227, 0.65217391, 0.66053512,\n",
       "        0.659699  , 0.65635452, 0.65719064, 0.65635452, 0.65551839,\n",
       "        0.65551839, 0.65551839, 0.65635452, 0.65635452, 0.65719064,\n",
       "        0.65802676, 0.66220736, 0.65802676, 0.659699  , 0.65719064,\n",
       "        0.65802676, 0.65719064, 0.66053512, 0.65886288, 0.65886288,\n",
       "        0.659699  , 0.659699  , 0.659699  , 0.659699  , 0.66137124,\n",
       "        0.66220736, 0.66137124, 0.66304348, 0.66053512, 0.65719064,\n",
       "        0.65635452, 0.65719064, 0.65802676, 0.65802676, 0.65719064]),\n",
       " 'mean_test_score': array([0.65293522, 0.65285175, 0.65352023, 0.65569351, 0.65544275,\n",
       "        0.65602775, 0.65402197, 0.65527531, 0.65477385, 0.65544226,\n",
       "        0.65494107, 0.65460676, 0.65393801, 0.65410488, 0.6541885 ,\n",
       "        0.65469031, 0.65519128, 0.65577657, 0.65636094, 0.65619386,\n",
       "        0.6562774 , 0.65694602, 0.65627733, 0.6558592 , 0.65803276,\n",
       "        0.65744755, 0.65744734, 0.65819964, 0.65803255, 0.65786512,\n",
       "        0.65619358, 0.65594295, 0.65535802, 0.65644441, 0.65652796,\n",
       "        0.65686205, 0.65803234, 0.65694574, 0.65761407, 0.65761379,\n",
       "        0.6581988 , 0.65819859, 0.65878415, 0.65928548, 0.66012125,\n",
       "        0.65953652, 0.65987083, 0.66003785, 0.6599536 , 0.66053868,\n",
       "        0.66045528, 0.66070618, 0.6606225 , 0.66087299, 0.65978575,\n",
       "        0.66003645, 0.6596186 , 0.66003652, 0.66037083, 0.65978575]),\n",
       " 'std_test_score': array([0.01093122, 0.01100568, 0.00999789, 0.01086507, 0.01114677,\n",
       "        0.01094491, 0.01036238, 0.00991685, 0.01013589, 0.01010354,\n",
       "        0.01026327, 0.01052351, 0.00997314, 0.01028561, 0.01043494,\n",
       "        0.01010218, 0.00956713, 0.00964621, 0.01045409, 0.0104684 ,\n",
       "        0.00985775, 0.01003924, 0.00973128, 0.01014652, 0.01100068,\n",
       "        0.01011961, 0.01048595, 0.01053084, 0.01095033, 0.01029188,\n",
       "        0.00949797, 0.00921816, 0.00905636, 0.00999003, 0.01037869,\n",
       "        0.0101415 , 0.0088464 , 0.00857676, 0.00961192, 0.00966509,\n",
       "        0.00925864, 0.00922869, 0.00986006, 0.0099198 , 0.00999476,\n",
       "        0.00993077, 0.00975122, 0.01033776, 0.00726754, 0.00777753,\n",
       "        0.00815828, 0.00800314, 0.00811553, 0.00818783, 0.00855121,\n",
       "        0.00696237, 0.00760654, 0.0072533 , 0.00714929, 0.00720435]),\n",
       " 'rank_test_score': array([59, 60, 58, 44, 45, 40, 56, 48, 51, 46, 50, 53, 57, 55, 54, 52, 49,\n",
       "        43, 35, 38, 36, 30, 37, 42, 22, 28, 29, 19, 23, 25, 39, 41, 47, 34,\n",
       "        33, 32, 24, 31, 26, 27, 20, 21, 18, 17,  7, 16, 12,  8, 11,  4,  5,\n",
       "         2,  3,  1, 13, 10, 15,  9,  6, 14], dtype=int32),\n",
       " 'split0_train_score': array([0.66905005, 0.67127867, 0.67062866, 0.67192868, 0.67239298,\n",
       "        0.6725787 , 0.6684929 , 0.66886433, 0.6684929 , 0.66914291,\n",
       "        0.66988578, 0.66979292, 0.66700715, 0.66858576, 0.6684929 ,\n",
       "        0.6680286 , 0.66858576, 0.6684929 , 0.66830718, 0.6684929 ,\n",
       "        0.66821432, 0.6680286 , 0.6680286 , 0.66821432, 0.66700715,\n",
       "        0.66635714, 0.66663571, 0.66626428, 0.66672857, 0.66682143,\n",
       "        0.66682143, 0.66747145, 0.66719287, 0.66691429, 0.66682143,\n",
       "        0.66700715, 0.66830718, 0.66812146, 0.66812146, 0.66775002,\n",
       "        0.66812146, 0.6684929 , 0.66840004, 0.66840004, 0.66840004,\n",
       "        0.66840004, 0.66784288, 0.66830718, 0.67025722, 0.67035008,\n",
       "        0.6705358 , 0.67062866, 0.67100009, 0.67127867, 0.67267156,\n",
       "        0.6725787 , 0.6725787 , 0.67220726, 0.67146439, 0.67146439]),\n",
       " 'split1_train_score': array([0.66449995, 0.66412852, 0.6675643 , 0.66830718, 0.66923577,\n",
       "        0.67025722, 0.6634785 , 0.66514997, 0.66431424, 0.66440709,\n",
       "        0.66459281, 0.66449995, 0.66366422, 0.66384994, 0.66468567,\n",
       "        0.66384994, 0.6639428 , 0.66403566, 0.66468567, 0.66487139,\n",
       "        0.66533569, 0.66561426, 0.66514997, 0.66487139, 0.66607856,\n",
       "        0.66570712, 0.66654285, 0.66589284, 0.66626428, 0.66682143,\n",
       "        0.6659857 , 0.66607856, 0.6659857 , 0.66617142, 0.66607856,\n",
       "        0.6659857 , 0.66877147, 0.66784288, 0.66765716, 0.66821432,\n",
       "        0.6680286 , 0.66747145, 0.66812146, 0.66765716, 0.66867861,\n",
       "        0.6684929 , 0.66812146, 0.66812146, 0.66867861, 0.66960721,\n",
       "        0.67016436, 0.67072152, 0.6705358 , 0.6700715 , 0.67100009,\n",
       "        0.67090723, 0.67109295, 0.67081437, 0.67146439, 0.67109295]),\n",
       " 'split2_train_score': array([0.66747145, 0.66719287, 0.66719287, 0.67062866, 0.67100009,\n",
       "        0.66970007, 0.66468567, 0.6659857 , 0.6659857 , 0.66691429,\n",
       "        0.6659857 , 0.66737859, 0.66635714, 0.6655214 , 0.66626428,\n",
       "        0.6659857 , 0.66635714, 0.66700715, 0.66691429, 0.66700715,\n",
       "        0.66710001, 0.66672857, 0.66700715, 0.66719287, 0.66645   ,\n",
       "        0.66719287, 0.66784288, 0.66765716, 0.66775002, 0.66765716,\n",
       "        0.66886433, 0.66886433, 0.66877147, 0.66867861, 0.66840004,\n",
       "        0.66867861, 0.67062866, 0.67016436, 0.67025722, 0.66997864,\n",
       "        0.66979292, 0.66970007, 0.67044294, 0.67044294, 0.67100009,\n",
       "        0.67072152, 0.67062866, 0.67016436, 0.67443588, 0.67406444,\n",
       "        0.67406444, 0.67397159, 0.67369301, 0.67322871, 0.6746216 ,\n",
       "        0.6746216 , 0.67536447, 0.67582877, 0.67555019, 0.67564305]),\n",
       " 'split3_train_score': array([0.66106417, 0.66078559, 0.6618999 , 0.66533569, 0.66617142,\n",
       "        0.66607856, 0.66533569, 0.66570712, 0.66440709, 0.66617142,\n",
       "        0.6659857 , 0.66617142, 0.6659857 , 0.66654285, 0.66663571,\n",
       "        0.66719287, 0.66645   , 0.66765716, 0.66487139, 0.66542854,\n",
       "        0.66579998, 0.66570712, 0.6655214 , 0.66579998, 0.66561426,\n",
       "        0.6655214 , 0.66635714, 0.66589284, 0.66672857, 0.66654285,\n",
       "        0.66691429, 0.66719287, 0.66700715, 0.66747145, 0.66728573,\n",
       "        0.66719287, 0.66737859, 0.66765716, 0.66775002, 0.66830718,\n",
       "        0.66877147, 0.6680286 , 0.66914291, 0.66942149, 0.67016436,\n",
       "        0.66988578, 0.66988578, 0.66979292, 0.66895719, 0.66923577,\n",
       "        0.66942149, 0.66960721, 0.66997864, 0.67035008, 0.67276442,\n",
       "        0.67230012, 0.67220726, 0.67183583, 0.67183583, 0.67183583]),\n",
       " 'split4_train_score': array([0.66514997, 0.66672857, 0.66728573, 0.66914291, 0.66942149,\n",
       "        0.6700715 , 0.66561426, 0.66710001, 0.66617142, 0.66682143,\n",
       "        0.66682143, 0.66663571, 0.66607856, 0.66561426, 0.66505711,\n",
       "        0.66589284, 0.66579998, 0.66561426, 0.6680286 , 0.66728573,\n",
       "        0.66710001, 0.66784288, 0.66793574, 0.66830718, 0.66645   ,\n",
       "        0.66617142, 0.66579998, 0.66765716, 0.66784288, 0.66821432,\n",
       "        0.66979292, 0.67072152, 0.67072152, 0.67025722, 0.6700715 ,\n",
       "        0.67035008, 0.67109295, 0.67109295, 0.67127867, 0.67137153,\n",
       "        0.67155725, 0.67192868, 0.6721144 , 0.67109295, 0.67174297,\n",
       "        0.67118581, 0.67127867, 0.67127867, 0.67127867, 0.67155725,\n",
       "        0.67202154, 0.67118581, 0.67192868, 0.67202154, 0.67267156,\n",
       "        0.67295013, 0.67360015, 0.67341443, 0.67360015, 0.67341443]),\n",
       " 'split5_train_score': array([0.66477853, 0.66561426, 0.6675643 , 0.67025722, 0.66923577,\n",
       "        0.66914291, 0.66626428, 0.66635714, 0.66663571, 0.66635714,\n",
       "        0.66663571, 0.66710001, 0.6634785 , 0.66524283, 0.66468567,\n",
       "        0.66468567, 0.66579998, 0.6655214 , 0.66431424, 0.66505711,\n",
       "        0.66505711, 0.6659857 , 0.66589284, 0.66579998, 0.66691429,\n",
       "        0.66710001, 0.66654285, 0.66672857, 0.66570712, 0.66617142,\n",
       "        0.66663571, 0.66691429, 0.66719287, 0.66700715, 0.66682143,\n",
       "        0.6680286 , 0.66784288, 0.66747145, 0.66793574, 0.66775002,\n",
       "        0.6680286 , 0.66830718, 0.66988578, 0.66960721, 0.66951435,\n",
       "        0.66951435, 0.66951435, 0.66932863, 0.67016436, 0.66979292,\n",
       "        0.6705358 , 0.67100009, 0.67137153, 0.67165011, 0.67118581,\n",
       "        0.67072152, 0.67146439, 0.6721144 , 0.67174297, 0.67146439]),\n",
       " 'split6_train_score': array([0.66518106, 0.66536676, 0.66601671, 0.66824513, 0.66768802,\n",
       "        0.66778087, 0.66982358, 0.66973073, 0.67000929, 0.66917363,\n",
       "        0.66889508, 0.66898793, 0.66666667, 0.66750232, 0.66759517,\n",
       "        0.66750232, 0.66796657, 0.66833798, 0.66620241, 0.66657382,\n",
       "        0.66666667, 0.66675952, 0.66657382, 0.66629526, 0.66675952,\n",
       "        0.66731662, 0.66731662, 0.66657382, 0.66638812, 0.66638812,\n",
       "        0.66675952, 0.66778087, 0.66778087, 0.66778087, 0.66778087,\n",
       "        0.66778087, 0.66870938, 0.66917363, 0.66898793, 0.66833798,\n",
       "        0.66778087, 0.66833798, 0.66861653, 0.66908078, 0.66889508,\n",
       "        0.66889508, 0.66870938, 0.66908078, 0.66945218, 0.66963788,\n",
       "        0.66973073, 0.67019499, 0.67047354, 0.67028784, 0.67010214,\n",
       "        0.67056639, 0.67103064, 0.67019499, 0.67056639, 0.67038069]),\n",
       " 'split7_train_score': array([0.66388115, 0.66527391, 0.66740947, 0.67000929, 0.67028784,\n",
       "        0.67121634, 0.66443825, 0.66610956, 0.66601671, 0.66629526,\n",
       "        0.66583101, 0.66750232, 0.6632312 , 0.6637883 , 0.66443825,\n",
       "        0.66490251, 0.66527391, 0.66629526, 0.66824513, 0.66768802,\n",
       "        0.66750232, 0.66740947, 0.66768802, 0.66759517, 0.66657382,\n",
       "        0.66722377, 0.66666667, 0.66666667, 0.66685237, 0.66796657,\n",
       "        0.66843083, 0.66870938, 0.66889508, 0.66805942, 0.66852368,\n",
       "        0.66843083, 0.67103064, 0.67038069, 0.67093779, 0.67084494,\n",
       "        0.67093779, 0.67075209, 0.6727948 , 0.6718663 , 0.6722377 ,\n",
       "        0.672052  , 0.6722377 , 0.6727948 , 0.67251625, 0.67270195,\n",
       "        0.67251625, 0.67270195, 0.67270195, 0.6727948 , 0.6726091 ,\n",
       "        0.672052  , 0.6722377 , 0.67307335, 0.67381616, 0.67381616]),\n",
       " 'split8_train_score': array([0.66620241, 0.66722377, 0.66759517, 0.66908078, 0.66991643,\n",
       "        0.66880223, 0.66713092, 0.66787372, 0.66629526, 0.66685237,\n",
       "        0.66722377, 0.66750232, 0.6643454 , 0.66564531, 0.66666667,\n",
       "        0.66610956, 0.66638812, 0.66648097, 0.66675952, 0.66564531,\n",
       "        0.66592386, 0.66685237, 0.66666667, 0.66694522, 0.66648097,\n",
       "        0.66629526, 0.66666667, 0.66620241, 0.66685237, 0.66675952,\n",
       "        0.66945218, 0.66898793, 0.66963788, 0.66908078, 0.66889508,\n",
       "        0.66833798, 0.67112349, 0.67103064, 0.67103064, 0.67130919,\n",
       "        0.67075209, 0.67121634, 0.6722377 , 0.67214485, 0.67251625,\n",
       "        0.6726091 , 0.67233055, 0.67195915, 0.6731662 , 0.6731662 ,\n",
       "        0.67251625, 0.67233055, 0.672052  , 0.6722377 , 0.67520891,\n",
       "        0.67428041, 0.67465181, 0.67428041, 0.67455896, 0.67455896]),\n",
       " 'split9_train_score': array([0.66815227, 0.66917363, 0.66935933, 0.66963788, 0.66945218,\n",
       "        0.66954503, 0.66629526, 0.66796657, 0.66731662, 0.66731662,\n",
       "        0.66703807, 0.66740947, 0.66573816, 0.66620241, 0.66610956,\n",
       "        0.66564531, 0.66629526, 0.66573816, 0.66480966, 0.6643454 ,\n",
       "        0.66545961, 0.66471681, 0.66490251, 0.66527391, 0.66648097,\n",
       "        0.66703807, 0.66713092, 0.66555246, 0.66573816, 0.66573816,\n",
       "        0.66620241, 0.66638812, 0.66675952, 0.66657382, 0.66685237,\n",
       "        0.66666667, 0.66657382, 0.66750232, 0.66768802, 0.66759517,\n",
       "        0.66778087, 0.66759517, 0.66870938, 0.66833798, 0.66870938,\n",
       "        0.66880223, 0.66768802, 0.66843083, 0.67028784, 0.66991643,\n",
       "        0.66991643, 0.66991643, 0.66982358, 0.66908078, 0.67028784,\n",
       "        0.66926648, 0.66926648, 0.66926648, 0.66973073, 0.66973073]),\n",
       " 'mean_train_score': array([0.6655431 , 0.66627665, 0.66725164, 0.66925734, 0.6694802 ,\n",
       "        0.66951734, 0.66615593, 0.66708449, 0.66656449, 0.66694522,\n",
       "        0.66688951, 0.66729806, 0.66525527, 0.66584954, 0.6660631 ,\n",
       "        0.66597953, 0.66628595, 0.66651809, 0.66631381, 0.66623954,\n",
       "        0.66641596, 0.66656453, 0.66653667, 0.66662953, 0.66648095,\n",
       "        0.66659237, 0.66675023, 0.66650882, 0.66668525, 0.6669081 ,\n",
       "        0.66758593, 0.66791093, 0.66799449, 0.6677995 , 0.66775307,\n",
       "        0.66784594, 0.66914591, 0.66904375, 0.66916447, 0.6691459 ,\n",
       "        0.66915519, 0.66918304, 0.67004659, 0.66980517, 0.67018588,\n",
       "        0.67005588, 0.66982374, 0.66992588, 0.67091944, 0.67100301,\n",
       "        0.67114231, 0.67122588, 0.67135588, 0.67130017, 0.6723123 ,\n",
       "        0.67202446, 0.67234946, 0.67230303, 0.67243301, 0.67234016]),\n",
       " 'std_train_score': array([0.00219183, 0.00269057, 0.00215304, 0.00167564, 0.00160999,\n",
       "        0.00169232, 0.00182049, 0.0014106 , 0.00163512, 0.00133295,\n",
       "        0.00145711, 0.00136963, 0.00135399, 0.00140156, 0.0012819 ,\n",
       "        0.00124479, 0.00123057, 0.00131835, 0.00149023, 0.00129768,\n",
       "        0.00099813, 0.00100133, 0.00108569, 0.00114422, 0.00038287,\n",
       "        0.00063179, 0.000532  , 0.00067394, 0.00068211, 0.00075763,\n",
       "        0.0013341 , 0.00134169, 0.00139349, 0.00119142, 0.00115161,\n",
       "        0.00116478, 0.00161009, 0.00142374, 0.00146194, 0.00147442,\n",
       "        0.00139413, 0.00152129, 0.00166972, 0.00145738, 0.00149956,\n",
       "        0.00143698, 0.00166133, 0.00153139, 0.00180345, 0.00165081,\n",
       "        0.00145726, 0.00130381, 0.00117938, 0.0012585 , 0.00162012,\n",
       "        0.00160479, 0.00172182, 0.00185238, 0.0017609 , 0.00182091])}"
      ]
     },
     "execution_count": 55,
     "metadata": {},
     "output_type": "execute_result"
    }
   ],
   "source": [
    "grid_search_random_forest.cv_results_"
   ]
  },
  {
   "cell_type": "code",
   "execution_count": 59,
   "metadata": {},
   "outputs": [],
   "source": [
    "best_forest_model_clf = RandomForestClassifier(n_estimators = 1000,\n",
    "                                               max_leaf_nodes = 18,\n",
    "                                               n_jobs = -1,\n",
    "                                               random_state = 42)"
   ]
  },
  {
   "cell_type": "code",
   "execution_count": 60,
   "metadata": {},
   "outputs": [],
   "source": [
    "random_forest_best_results = cross_validate(best_forest_model_clf, \n",
    "                                            X_train_updated, \n",
    "                                            y_train, \n",
    "                                            cv=crossvalidation, \n",
    "                                            return_train_score = True)"
   ]
  },
  {
   "cell_type": "code",
   "execution_count": 62,
   "metadata": {},
   "outputs": [
    {
     "data": {
      "text/plain": [
       "{'fit_time': array([6.80627894, 9.42683792, 5.25640798, 5.53262615, 5.49912071,\n",
       "        5.29805017, 5.42514992, 5.17917514, 4.87725997, 5.007797  ]),\n",
       " 'score_time': array([0.52748418, 0.516747  , 0.52846909, 0.52315497, 0.42249823,\n",
       "        0.41807485, 0.4221561 , 0.41293383, 0.41814995, 0.52153683]),\n",
       " 'test_score': array([0.65079365, 0.66248956, 0.64578112, 0.65329992, 0.64160401,\n",
       "        0.6641604 , 0.65133779, 0.67056856, 0.66638796, 0.65301003]),\n",
       " 'train_score': array([0.67035008, 0.66654285, 0.66877147, 0.66914291, 0.66858576,\n",
       "        0.66728573, 0.66898793, 0.66824513, 0.66852368, 0.66805942])}"
      ]
     },
     "execution_count": 62,
     "metadata": {},
     "output_type": "execute_result"
    }
   ],
   "source": [
    "random_forest_best_results"
   ]
  },
  {
   "cell_type": "code",
   "execution_count": null,
   "metadata": {},
   "outputs": [],
   "source": [
    "#do we need to maximize FPR or TPR for our business case?"
   ]
  }
 ],
 "metadata": {
  "kernelspec": {
   "display_name": "Python [conda env:learn-env] *",
   "language": "python",
   "name": "conda-env-learn-env-py"
  },
  "language_info": {
   "codemirror_mode": {
    "name": "ipython",
    "version": 3
   },
   "file_extension": ".py",
   "mimetype": "text/x-python",
   "name": "python",
   "nbconvert_exporter": "python",
   "pygments_lexer": "ipython3",
   "version": "3.6.6"
  }
 },
 "nbformat": 4,
 "nbformat_minor": 4
}
