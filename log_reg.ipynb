{
 "cells": [
  {
   "cell_type": "code",
   "execution_count": 79,
   "metadata": {},
   "outputs": [],
   "source": [
    "#import libraries\n",
    "\n",
    "import mod_5_project_helper as hp\n",
    "import pandas as pd\n",
    "import seaborn as sns\n",
    "import matplotlib.pyplot as plt\n",
    "import numpy as np\n",
    "from sklearn.model_selection import train_test_split\n",
    "from sklearn.model_selection import KFold, cross_validate, cross_val_predict\n",
    "from sklearn.tree import DecisionTreeClassifier\n",
    "from sklearn.preprocessing import OneHotEncoder\n",
    "from sklearn.tree import export_graphviz\n",
    "from sklearn.ensemble import RandomForestClassifier\n",
    "from sklearn.model_selection import GridSearchCV\n",
    "from sklearn.metrics import confusion_matrix\n",
    "from sklearn.metrics import roc_curve, auc\n",
    "from imblearn.over_sampling import SMOTE\n",
    "from sklearn.metrics import roc_auc_score\n",
    "\n",
    "\n",
    "#set environment - REMEMBER TO COPY OVER mod_5_project_helper.py\n",
    "\n",
    "hp.set_environment()\n",
    "%matplotlib inline\n",
    "pd.set_option('display.max_columns', None)\n",
    "# pd.set_option('display.max_rows', None)\n",
    "\n",
    "#initiliase variables\n",
    "\n",
    "%run variables.py\n",
    "\n",
    "#import data\n",
    "\n",
    "df = pd.read_csv(\"data.csv\")"
   ]
  },
  {
   "cell_type": "code",
   "execution_count": 80,
   "metadata": {},
   "outputs": [],
   "source": [
    "df.drop_duplicates(inplace = True) #drop 10,728 duplicate rows\n"
   ]
  },
  {
   "cell_type": "code",
   "execution_count": 81,
   "metadata": {},
   "outputs": [],
   "source": [
    "df.drop(index = 100000, axis = 0, inplace = True) #delete last blank row in the data set"
   ]
  },
  {
   "cell_type": "code",
   "execution_count": 82,
   "metadata": {},
   "outputs": [],
   "source": [
    "df.drop(df[df[\"Current Loan Amount\"] == 99999999].index, inplace = True) #delete 11484 rows where the loan amount is 99999999"
   ]
  },
  {
   "cell_type": "code",
   "execution_count": 83,
   "metadata": {},
   "outputs": [],
   "source": [
    "df.dropna(subset = ['Credit Score'], inplace = True) #delete 19154 rows where Credit Score is missing"
   ]
  },
  {
   "cell_type": "code",
   "execution_count": 84,
   "metadata": {},
   "outputs": [],
   "source": [
    "df.dropna(subset = ['Years in current job'], inplace = True) #delete 2564 rows where Years in current job is missing"
   ]
  },
  {
   "cell_type": "code",
   "execution_count": 85,
   "metadata": {},
   "outputs": [],
   "source": [
    "df[\"Years in current job\"].replace(to_replace = \"year.*\", value = \"\",inplace = True, regex = True) #remove 'years' or 'year' from string"
   ]
  },
  {
   "cell_type": "code",
   "execution_count": 86,
   "metadata": {},
   "outputs": [],
   "source": [
    "df.drop(df[df[\"Home Ownership\"] == \"HaveMortgage\"].index, inplace = True) #delete 120 rows with \"HaveMortgage\" as meaning isn't clear"
   ]
  },
  {
   "cell_type": "code",
   "execution_count": 87,
   "metadata": {},
   "outputs": [],
   "source": [
    "df.dropna(subset = ['Months since last delinquent'], inplace = True) #delete 30,000 rows where data is missing"
   ]
  },
  {
   "cell_type": "code",
   "execution_count": 88,
   "metadata": {},
   "outputs": [],
   "source": [
    "df.drop(columns = \"Maximum Open Credit\", inplace = True) #delete Maximum Open Credit columns as some of these numbers are huge e.g. 798255370.0"
   ]
  },
  {
   "cell_type": "code",
   "execution_count": 89,
   "metadata": {},
   "outputs": [],
   "source": [
    "df = hp.drop_column_keyword_search(df, [\"Loan ID\", \"Customer ID\"]) #delete features 'Loan ID' and 'Customer ID' as they don't add anything"
   ]
  },
  {
   "cell_type": "code",
   "execution_count": 90,
   "metadata": {},
   "outputs": [],
   "source": [
    "df = df.fillna(df.median()) #fill remaining values with"
   ]
  },
  {
   "cell_type": "code",
   "execution_count": 91,
   "metadata": {},
   "outputs": [],
   "source": [
    "#rename and consolidate categorical variables for purpose\n",
    "\n",
    "df[\"Purpose\"].replace({\n",
    "              \"Business Loan\": \"business_loan\",\n",
    "              \"Medical Bills\": \"medical bills\",\n",
    "              \"Educational Expenses\": \"educational_expenses\",\n",
    "              \"Buy House\": \"buy_house\",\n",
    "              \"Buy a Car\": \"buy_a_car\",\n",
    "              \"Debt Consolidation\": \"debt_consolidation\",\n",
    "              \"Home Improvements\": \"home_improvements\",\n",
    "              \"Take a Trip\": \"take_a_trip\",\n",
    "              \"vacation\": \"take_a_trip\",\n",
    "              \"Major Purchase\": \"other\",\n",
    "              \"Other\": \"other\", \n",
    "              \"renewable_energy\": \"home_improvements\",\n",
    "              \"small_business\": \"business_loan\",\n",
    "              \"moving\": \"home_improvements\",\n",
    "              \"major_purchase\": \"major_purchase\",\n",
    "              \"wedding\": \"wedding\"\n",
    "              }, inplace=True)"
   ]
  },
  {
   "cell_type": "code",
   "execution_count": 92,
   "metadata": {},
   "outputs": [],
   "source": [
    "#rename categorical variables for Home Ownership\n",
    "\n",
    "df[\"Home Ownership\"].replace({\n",
    "              \"Home Mortgage\": \"mortgage\",\n",
    "              \"Rent\": \"rent\",\n",
    "              \"Own Home\": \"own_home\",\n",
    "              }, inplace=True)"
   ]
  },
  {
   "cell_type": "code",
   "execution_count": 93,
   "metadata": {},
   "outputs": [],
   "source": [
    "#rename categorical variables for Term\n",
    "\n",
    "df[\"Term\"].replace({\n",
    "              \"Long Term\": \"long_term\",\n",
    "              \"Short Term\": \"short_term\",\n",
    "              }, inplace=True)"
   ]
  },
  {
   "cell_type": "code",
   "execution_count": 94,
   "metadata": {},
   "outputs": [],
   "source": [
    "#rename categorical variables for Loan Status\n",
    "\n",
    "df[\"Loan Status\"].replace({\n",
    "              \"Fully Paid\": \"fully_paid\",\n",
    "              \"Charged Off\": \"default\",\n",
    "              }, inplace=True)"
   ]
  },
  {
   "cell_type": "code",
   "execution_count": 95,
   "metadata": {},
   "outputs": [],
   "source": [
    "#rename columns to make the dataset easier to work with using . notation\n",
    "\n",
    "df.columns = ['loan_status',\n",
    "              'loan_amount',\n",
    "              'term',\n",
    "              'credit_score',\n",
    "              'annual_income',\n",
    "              'years_in_current_job',\n",
    "              'home_ownership',\n",
    "              'loan_purpose',\n",
    "              'monthly_debt',\n",
    "              'years_of_credit_history',\n",
    "              'months_since_last_delinquent',\n",
    "              'number_of_open_accounts',\n",
    "              'number_of_credit_problems',\n",
    "              'current_credit_balance',\n",
    "              'bankruptcies',\n",
    "              'tax_liens']\n"
   ]
  },
  {
   "cell_type": "code",
   "execution_count": 96,
   "metadata": {},
   "outputs": [],
   "source": [
    "df.reset_index(inplace = True); #reset index\n",
    "df.drop(columns = \"index\", inplace = True) #remove extra index columns as not needed\n",
    "df['loan_status_binary_value'] = np.where(df[\"loan_status\"] == \"fully_paid\",1,0) #add a binary columns for loan_status with 1 = \"fully_paid\" and 0 = \"default\""
   ]
  },
  {
   "cell_type": "code",
   "execution_count": 97,
   "metadata": {},
   "outputs": [
    {
     "name": "stdout",
     "output_type": "stream",
     "text": [
      "<class 'pandas.core.frame.DataFrame'>\n",
      "RangeIndex: 26401 entries, 0 to 26400\n",
      "Data columns (total 17 columns):\n",
      "loan_status                     26401 non-null object\n",
      "loan_amount                     26401 non-null float64\n",
      "term                            26401 non-null object\n",
      "credit_score                    26401 non-null float64\n",
      "annual_income                   26401 non-null float64\n",
      "years_in_current_job            26401 non-null object\n",
      "home_ownership                  26401 non-null object\n",
      "loan_purpose                    26401 non-null object\n",
      "monthly_debt                    26401 non-null float64\n",
      "years_of_credit_history         26401 non-null float64\n",
      "months_since_last_delinquent    26401 non-null float64\n",
      "number_of_open_accounts         26401 non-null float64\n",
      "number_of_credit_problems       26401 non-null float64\n",
      "current_credit_balance          26401 non-null float64\n",
      "bankruptcies                    26401 non-null float64\n",
      "tax_liens                       26401 non-null float64\n",
      "loan_status_binary_value        26401 non-null int64\n",
      "dtypes: float64(11), int64(1), object(5)\n",
      "memory usage: 3.4+ MB\n"
     ]
    }
   ],
   "source": [
    "df.info()"
   ]
  },
  {
   "cell_type": "code",
   "execution_count": 98,
   "metadata": {},
   "outputs": [
    {
     "data": {
      "text/plain": [
       "(26401, 17)"
      ]
     },
     "execution_count": 98,
     "metadata": {},
     "output_type": "execute_result"
    }
   ],
   "source": [
    "df.shape"
   ]
  },
  {
   "cell_type": "code",
   "execution_count": 99,
   "metadata": {},
   "outputs": [
    {
     "data": {
      "text/html": [
       "<div>\n",
       "<style scoped>\n",
       "    .dataframe tbody tr th:only-of-type {\n",
       "        vertical-align: middle;\n",
       "    }\n",
       "\n",
       "    .dataframe tbody tr th {\n",
       "        vertical-align: top;\n",
       "    }\n",
       "\n",
       "    .dataframe thead th {\n",
       "        text-align: right;\n",
       "    }\n",
       "</style>\n",
       "<table border=\"1\" class=\"dataframe\">\n",
       "  <thead>\n",
       "    <tr style=\"text-align: right;\">\n",
       "      <th></th>\n",
       "      <th>loan_status</th>\n",
       "      <th>loan_amount</th>\n",
       "      <th>term</th>\n",
       "      <th>credit_score</th>\n",
       "      <th>annual_income</th>\n",
       "      <th>years_in_current_job</th>\n",
       "      <th>home_ownership</th>\n",
       "      <th>loan_purpose</th>\n",
       "      <th>monthly_debt</th>\n",
       "      <th>years_of_credit_history</th>\n",
       "      <th>months_since_last_delinquent</th>\n",
       "      <th>number_of_open_accounts</th>\n",
       "      <th>number_of_credit_problems</th>\n",
       "      <th>current_credit_balance</th>\n",
       "      <th>bankruptcies</th>\n",
       "      <th>tax_liens</th>\n",
       "      <th>loan_status_binary_value</th>\n",
       "    </tr>\n",
       "  </thead>\n",
       "  <tbody>\n",
       "    <tr>\n",
       "      <td>0</td>\n",
       "      <td>fully_paid</td>\n",
       "      <td>217646.0</td>\n",
       "      <td>short_term</td>\n",
       "      <td>730.0</td>\n",
       "      <td>1184194.0</td>\n",
       "      <td>&lt; 1</td>\n",
       "      <td>mortgage</td>\n",
       "      <td>debt_consolidation</td>\n",
       "      <td>10855.08</td>\n",
       "      <td>19.6</td>\n",
       "      <td>10.0</td>\n",
       "      <td>13.0</td>\n",
       "      <td>1.0</td>\n",
       "      <td>122170.0</td>\n",
       "      <td>1.0</td>\n",
       "      <td>0.0</td>\n",
       "      <td>1</td>\n",
       "    </tr>\n",
       "    <tr>\n",
       "      <td>1</td>\n",
       "      <td>fully_paid</td>\n",
       "      <td>548746.0</td>\n",
       "      <td>short_term</td>\n",
       "      <td>678.0</td>\n",
       "      <td>2559110.0</td>\n",
       "      <td>2</td>\n",
       "      <td>rent</td>\n",
       "      <td>debt_consolidation</td>\n",
       "      <td>18660.28</td>\n",
       "      <td>22.6</td>\n",
       "      <td>33.0</td>\n",
       "      <td>4.0</td>\n",
       "      <td>0.0</td>\n",
       "      <td>437171.0</td>\n",
       "      <td>0.0</td>\n",
       "      <td>0.0</td>\n",
       "      <td>1</td>\n",
       "    </tr>\n",
       "    <tr>\n",
       "      <td>2</td>\n",
       "      <td>fully_paid</td>\n",
       "      <td>234124.0</td>\n",
       "      <td>short_term</td>\n",
       "      <td>727.0</td>\n",
       "      <td>693234.0</td>\n",
       "      <td>10+</td>\n",
       "      <td>rent</td>\n",
       "      <td>debt_consolidation</td>\n",
       "      <td>14211.24</td>\n",
       "      <td>24.7</td>\n",
       "      <td>46.0</td>\n",
       "      <td>10.0</td>\n",
       "      <td>1.0</td>\n",
       "      <td>28291.0</td>\n",
       "      <td>1.0</td>\n",
       "      <td>0.0</td>\n",
       "      <td>1</td>\n",
       "    </tr>\n",
       "    <tr>\n",
       "      <td>3</td>\n",
       "      <td>fully_paid</td>\n",
       "      <td>666204.0</td>\n",
       "      <td>long_term</td>\n",
       "      <td>723.0</td>\n",
       "      <td>1821967.0</td>\n",
       "      <td>10+</td>\n",
       "      <td>mortgage</td>\n",
       "      <td>debt_consolidation</td>\n",
       "      <td>17612.24</td>\n",
       "      <td>22.0</td>\n",
       "      <td>34.0</td>\n",
       "      <td>15.0</td>\n",
       "      <td>0.0</td>\n",
       "      <td>813694.0</td>\n",
       "      <td>0.0</td>\n",
       "      <td>0.0</td>\n",
       "      <td>1</td>\n",
       "    </tr>\n",
       "    <tr>\n",
       "      <td>4</td>\n",
       "      <td>default</td>\n",
       "      <td>317108.0</td>\n",
       "      <td>long_term</td>\n",
       "      <td>687.0</td>\n",
       "      <td>1133274.0</td>\n",
       "      <td>8</td>\n",
       "      <td>rent</td>\n",
       "      <td>debt_consolidation</td>\n",
       "      <td>9632.81</td>\n",
       "      <td>17.4</td>\n",
       "      <td>53.0</td>\n",
       "      <td>4.0</td>\n",
       "      <td>0.0</td>\n",
       "      <td>60287.0</td>\n",
       "      <td>0.0</td>\n",
       "      <td>0.0</td>\n",
       "      <td>0</td>\n",
       "    </tr>\n",
       "  </tbody>\n",
       "</table>\n",
       "</div>"
      ],
      "text/plain": [
       "  loan_status  loan_amount        term  credit_score  annual_income  \\\n",
       "0  fully_paid     217646.0  short_term         730.0      1184194.0   \n",
       "1  fully_paid     548746.0  short_term         678.0      2559110.0   \n",
       "2  fully_paid     234124.0  short_term         727.0       693234.0   \n",
       "3  fully_paid     666204.0   long_term         723.0      1821967.0   \n",
       "4     default     317108.0   long_term         687.0      1133274.0   \n",
       "\n",
       "  years_in_current_job home_ownership        loan_purpose  monthly_debt  \\\n",
       "0                 < 1        mortgage  debt_consolidation      10855.08   \n",
       "1                   2            rent  debt_consolidation      18660.28   \n",
       "2                 10+            rent  debt_consolidation      14211.24   \n",
       "3                 10+        mortgage  debt_consolidation      17612.24   \n",
       "4                   8            rent  debt_consolidation       9632.81   \n",
       "\n",
       "   years_of_credit_history  months_since_last_delinquent  \\\n",
       "0                     19.6                          10.0   \n",
       "1                     22.6                          33.0   \n",
       "2                     24.7                          46.0   \n",
       "3                     22.0                          34.0   \n",
       "4                     17.4                          53.0   \n",
       "\n",
       "   number_of_open_accounts  number_of_credit_problems  current_credit_balance  \\\n",
       "0                     13.0                        1.0                122170.0   \n",
       "1                      4.0                        0.0                437171.0   \n",
       "2                     10.0                        1.0                 28291.0   \n",
       "3                     15.0                        0.0                813694.0   \n",
       "4                      4.0                        0.0                 60287.0   \n",
       "\n",
       "   bankruptcies  tax_liens  loan_status_binary_value  \n",
       "0           1.0        0.0                         1  \n",
       "1           0.0        0.0                         1  \n",
       "2           1.0        0.0                         1  \n",
       "3           0.0        0.0                         1  \n",
       "4           0.0        0.0                         0  "
      ]
     },
     "execution_count": 99,
     "metadata": {},
     "output_type": "execute_result"
    }
   ],
   "source": [
    "df.head()"
   ]
  },
  {
   "cell_type": "code",
   "execution_count": 100,
   "metadata": {},
   "outputs": [],
   "source": [
    "#define X and y columns\n",
    "\n",
    "X = df.drop(columns = [\"loan_status\", \"loan_status_binary_value\"])\n",
    "y = df.loan_status_binary_value"
   ]
  },
  {
   "cell_type": "code",
   "execution_count": 101,
   "metadata": {},
   "outputs": [],
   "source": [
    "#define train, validation and test data \n",
    "\n",
    "X_train, X_test, y_train, y_test = train_test_split(X,y,test_size=.2,random_state=42)\n",
    "X_train,X_val,y_train,y_val = train_test_split(X_train,y_train,test_size=.2,random_state=42)"
   ]
  },
  {
   "cell_type": "code",
   "execution_count": 102,
   "metadata": {},
   "outputs": [],
   "source": [
    "#make a dataframe of categorical variables - training data\n",
    "\n",
    "X_train_categorical = pd.concat([X_train.term, \n",
    "                                 X_train.years_in_current_job, \n",
    "                                 X_train.home_ownership, \n",
    "                                 X_train.loan_purpose], \n",
    "                                 axis = 1)"
   ]
  },
  {
   "cell_type": "code",
   "execution_count": 103,
   "metadata": {},
   "outputs": [],
   "source": [
    "#make a dataframe of continous variables - training data\n",
    "\n",
    "X_train_continuous = pd.concat([X_train.loan_amount, \n",
    "                                X_train.credit_score, \n",
    "                                X_train.annual_income, \n",
    "                                X_train.monthly_debt, \n",
    "                                X_train.years_of_credit_history,\n",
    "                                X_train.months_since_last_delinquent,\n",
    "                                X_train.number_of_open_accounts,\n",
    "                                X_train.current_credit_balance,\n",
    "                                X_train.bankruptcies,\n",
    "                                X_train.tax_liens], \n",
    "                                axis = 1)"
   ]
  },
  {
   "cell_type": "code",
   "execution_count": 104,
   "metadata": {},
   "outputs": [],
   "source": [
    "#one hot encode categorical variables - training data\n",
    "#for everything but decision trees we should do drop_first = True\n",
    "X_train_one_hot_encoded = pd.get_dummies(X_train_categorical)"
   ]
  },
  {
   "cell_type": "code",
   "execution_count": 105,
   "metadata": {},
   "outputs": [],
   "source": [
    "#stitch the one hot encoded dataframe back together - training data\n",
    "\n",
    "X_train_all_numbers = pd.concat([X_train_continuous, X_train_one_hot_encoded], axis = 1)"
   ]
  },
  {
   "cell_type": "code",
   "execution_count": 106,
   "metadata": {},
   "outputs": [],
   "source": [
    "#make a dataframe of categorical variables - validation data\n",
    "\n",
    "X_val_categorical = pd.concat([X_val.term, \n",
    "                               X_val.years_in_current_job, \n",
    "                               X_val.home_ownership, \n",
    "                               X_val.loan_purpose], \n",
    "                               axis = 1)"
   ]
  },
  {
   "cell_type": "code",
   "execution_count": 107,
   "metadata": {},
   "outputs": [],
   "source": [
    "#make a dataframe of continous variables - validation data\n",
    "\n",
    "X_val_continuous = pd.concat([X_val.loan_amount, \n",
    "                              X_val.credit_score, \n",
    "                              X_val.annual_income, \n",
    "                              X_val.monthly_debt, \n",
    "                              X_val.years_of_credit_history,\n",
    "                              X_val.months_since_last_delinquent,\n",
    "                              X_val.number_of_open_accounts,\n",
    "                              X_val.current_credit_balance,\n",
    "                              X_val.bankruptcies,\n",
    "                              X_val.tax_liens], \n",
    "                              axis = 1)"
   ]
  },
  {
   "cell_type": "code",
   "execution_count": 108,
   "metadata": {},
   "outputs": [],
   "source": [
    "#one hot encode categorical variables - validation data\n",
    "#for everything but decision trees we should do drop_first = True\n",
    "X_val_one_hot_encoded = pd.get_dummies(X_val_categorical)"
   ]
  },
  {
   "cell_type": "code",
   "execution_count": 109,
   "metadata": {},
   "outputs": [],
   "source": [
    "#stitch the one hot encoded dataframe back together - validation data\n",
    "\n",
    "X_val_all_numbers = pd.concat([X_val_continuous, X_val_one_hot_encoded], axis = 1)"
   ]
  },
  {
   "cell_type": "code",
   "execution_count": 110,
   "metadata": {},
   "outputs": [],
   "source": [
    "#use SMOTE to resample training data\n",
    "\n",
    "smote = SMOTE()\n",
    "X_train_resampled, y_train_resampled = smote.fit_sample(X_train_all_numbers, y_train)"
   ]
  },
  {
   "cell_type": "code",
   "execution_count": 111,
   "metadata": {},
   "outputs": [
    {
     "data": {
      "text/plain": [
       "KFold(n_splits=10, random_state=42, shuffle=True)"
      ]
     },
     "execution_count": 111,
     "metadata": {},
     "output_type": "execute_result"
    }
   ],
   "source": [
    "crossvalidation = KFold(n_splits=10, shuffle=True, random_state=42) #initialise cross validation object\n",
    "crossvalidation"
   ]
  },
  {
   "cell_type": "code",
   "execution_count": 112,
   "metadata": {},
   "outputs": [],
   "source": [
    "#export data for CSVs for ease\n",
    "\n",
    "X_train_resampled.to_csv(\"X_train.csv\")\n",
    "X_val_all_numbers.to_csv(\"X_val.csv\")\n",
    "y_train_resampled.to_csv(\"y_train.csv\")\n",
    "y_val.to_csv(\"y_val.csv\")"
   ]
  },
  {
   "cell_type": "markdown",
   "metadata": {},
   "source": [
    "## Log Reg"
   ]
  },
  {
   "cell_type": "code",
   "execution_count": 113,
   "metadata": {},
   "outputs": [],
   "source": [
    "from sklearn.linear_model import LogisticRegression\n"
   ]
  },
  {
   "cell_type": "code",
   "execution_count": 114,
   "metadata": {},
   "outputs": [
    {
     "data": {
      "text/plain": [
       "LogisticRegression(C=1.0, class_weight=None, dual=False, fit_intercept=True,\n",
       "                   intercept_scaling=1, l1_ratio=None, max_iter=100,\n",
       "                   multi_class='auto', n_jobs=None, penalty='l2',\n",
       "                   random_state=None, solver='lbfgs', tol=0.0001, verbose=0,\n",
       "                   warm_start=False)"
      ]
     },
     "execution_count": 114,
     "metadata": {},
     "output_type": "execute_result"
    }
   ],
   "source": [
    "log_reg = LogisticRegression()\n",
    "log_reg.fit(X_train_all_numbers, y_train)"
   ]
  },
  {
   "cell_type": "code",
   "execution_count": 115,
   "metadata": {},
   "outputs": [],
   "source": [
    "y_predicted = log_reg.predict(X_train_all_numbers)"
   ]
  },
  {
   "cell_type": "code",
   "execution_count": 116,
   "metadata": {},
   "outputs": [
    {
     "data": {
      "text/plain": [
       "0.7827296401515151"
      ]
     },
     "execution_count": 116,
     "metadata": {},
     "output_type": "execute_result"
    }
   ],
   "source": [
    "from sklearn.metrics import accuracy_score\n",
    "accuracy_score(y_train, y_predicted)"
   ]
  },
  {
   "cell_type": "code",
   "execution_count": 117,
   "metadata": {},
   "outputs": [
    {
     "data": {
      "text/plain": [
       "array([[ 1340,  3524],\n",
       "       [  147, 11885]])"
      ]
     },
     "execution_count": 117,
     "metadata": {},
     "output_type": "execute_result"
    }
   ],
   "source": [
    "from sklearn.metrics import confusion_matrix\n",
    "confusion_matrix(y_train, y_predicted)"
   ]
  },
  {
   "cell_type": "code",
   "execution_count": 118,
   "metadata": {},
   "outputs": [
    {
     "name": "stdout",
     "output_type": "stream",
     "text": [
      "\n",
      "Training Precision:  0.7713024855603868\n",
      "Testing Precision:  0.7789473684210526\n",
      "\n",
      "\n",
      "Training Recall:  0.987782579787234\n",
      "Testing Recall:  0.9898858075040783\n",
      "\n",
      "\n",
      "Training Accuracy:  0.7827296401515151\n",
      "Testing Accuracy:  0.7888257575757576\n",
      "\n",
      "\n",
      "Training F1-Score:  0.8662220764549398\n",
      "Testing F1-Score:  0.8718390804597701\n"
     ]
    }
   ],
   "source": [
    "y_hat_train = log_reg.predict(X_train_all_numbers)\n",
    "y_hat_test = log_reg.predict(X_val_all_numbers)\n",
    "\n",
    "\n",
    "from sklearn.metrics import precision_score, recall_score, accuracy_score, f1_score\n",
    "\n",
    "print('\\nTraining Precision: ', precision_score(y_train, y_hat_train))\n",
    "print('Testing Precision: ', precision_score(y_val, y_hat_test))\n",
    "print('\\n')\n",
    "\n",
    "print('Training Recall: ', recall_score(y_train, y_hat_train))\n",
    "print('Testing Recall: ', recall_score(y_val, y_hat_test))\n",
    "print('\\n')\n",
    "\n",
    "print('Training Accuracy: ', accuracy_score(y_train, y_hat_train))\n",
    "print('Testing Accuracy: ', accuracy_score(y_val, y_hat_test))\n",
    "print('\\n')\n",
    "\n",
    "print('Training F1-Score: ', f1_score(y_train, y_hat_train))\n",
    "print('Testing F1-Score: ', f1_score(y_val, y_hat_test))"
   ]
  },
  {
   "cell_type": "code",
   "execution_count": 119,
   "metadata": {},
   "outputs": [],
   "source": [
    "from sklearn.metrics import roc_curve, auc"
   ]
  },
  {
   "cell_type": "code",
   "execution_count": 120,
   "metadata": {},
   "outputs": [],
   "source": [
    "y_score = log_reg.fit(X_train_all_numbers, y_train).decision_function(X_val_all_numbers)\n",
    "\n",
    "fpr, tpr, thresholds = roc_curve(y_val, y_score)"
   ]
  },
  {
   "cell_type": "code",
   "execution_count": 121,
   "metadata": {
    "scrolled": true
   },
   "outputs": [
    {
     "name": "stdout",
     "output_type": "stream",
     "text": [
      "AUC: 0.6597837760233762\n"
     ]
    }
   ],
   "source": [
    "print('AUC: {}'.format(auc(fpr, tpr)))"
   ]
  },
  {
   "cell_type": "code",
   "execution_count": 122,
   "metadata": {},
   "outputs": [],
   "source": [
    "def scores(model,X_train,X_val,y_train,y_val):\n",
    "    train_prob = model.predict_proba(X_train)[:,1]\n",
    "    val_prob = model.predict_proba(X_val)[:,1]\n",
    "    train = roc_auc_score(y_train,train_prob)\n",
    "    val = roc_auc_score(y_val,val_prob)\n",
    "    print('train:',round(train,2),'test:',round(val,2))"
   ]
  },
  {
   "cell_type": "code",
   "execution_count": 123,
   "metadata": {},
   "outputs": [],
   "source": [
    "def roc_plot(model,X_train,y_train,X_val,y_val):\n",
    "    train_prob = model.predict_proba(X_train)[:,1]\n",
    "    val_prob = model.predict_proba(X_val)[:,1]\n",
    "    plt.figure(figsize=(7,7))\n",
    "    for data in [[y_train, train_prob],[y_val, val_prob]]: # ,[y_test, test_prob]\n",
    "        fpr, tpr, threshold = roc_curve(data[0], data[1])\n",
    "        plt.plot(fpr, tpr)\n",
    "    annot(fpr, tpr, threshold)\n",
    "    plt.plot([0, 1], [0, 1], color='navy', linestyle='--')\n",
    "    plt.ylabel('TPR (power)')\n",
    "    plt.xlabel('FPR (alpha)')\n",
    "    plt.legend(['train','val'])\n",
    "    plt.show()"
   ]
  },
  {
   "cell_type": "code",
   "execution_count": 124,
   "metadata": {},
   "outputs": [],
   "source": [
    "def annot(fpr,tpr,thr):\n",
    "    k=0\n",
    "    for i,j in zip(fpr,tpr):\n",
    "        if k %50 == 0:\n",
    "            plt.annotate(round(thr[k],2),xy=(i,j), textcoords='data')\n",
    "        k+=1"
   ]
  },
  {
   "cell_type": "code",
   "execution_count": 125,
   "metadata": {},
   "outputs": [
    {
     "name": "stdout",
     "output_type": "stream",
     "text": [
      "train: 0.71 test: 0.66\n"
     ]
    },
    {
     "data": {
      "image/png": "[encoded data removed]",
      "text/plain": [
       "<Figure size 504x504 with 1 Axes>"
      ]
     },
     "metadata": {
      "needs_background": "light"
     },
     "output_type": "display_data"
    }
   ],
   "source": [
    "scores(log_reg,X_train_resampled,X_val_all_numbers,y_train_resampled,y_val)\n",
    "roc_plot(log_reg,X_train_resampled,y_train_resampled,X_val_all_numbers,y_val)"
   ]
  },
  {
   "cell_type": "code",
   "execution_count": 126,
   "metadata": {},
   "outputs": [],
   "source": [
    "from sklearn.model_selection import GridSearchCV"
   ]
  },
  {
   "cell_type": "code",
   "execution_count": 127,
   "metadata": {},
   "outputs": [
    {
     "name": "stdout",
     "output_type": "stream",
     "text": [
      "train: 0.68 test: 0.66\n",
      "{'C': 10, 'penalty': 'l2'}\n"
     ]
    }
   ],
   "source": [
    "opt_log = LogisticRegression(random_state = 42)\n",
    "\n",
    "penalty = ['l1', 'l2']\n",
    "C = [0.001,0.01,0.1,1,10,100,1000]\n",
    "\n",
    "hyperparameters = dict(C=C, penalty=penalty)\n",
    "\n",
    "#param_grid = {'max_depth':range(10,50,10),'min_samples_leaf':[5,50,500]}\n",
    "\n",
    "opt_model = GridSearchCV(opt_log,hyperparameters,cv=crossvalidation,scoring='roc_auc',return_train_score=True,n_jobs=-1)\n",
    "opt_model.fit(X_train_all_numbers,y_train)\n",
    "best_model = opt_model.best_estimator_\n",
    "\n",
    "scores(best_model,X_train_all_numbers,X_val_all_numbers,y_train,y_val)\n",
    "print(opt_model.best_params_)\n",
    "#opt_plots(opt_model)"
   ]
  },
  {
   "cell_type": "code",
   "execution_count": 128,
   "metadata": {},
   "outputs": [
    {
     "name": "stdout",
     "output_type": "stream",
     "text": [
      "train: 0.68 test: 0.66\n"
     ]
    },
    {
     "data": {
      "image/png": "[encoded data removed]",
      "text/plain": [
       "<Figure size 504x504 with 1 Axes>"
      ]
     },
     "metadata": {
      "needs_background": "light"
     },
     "output_type": "display_data"
    }
   ],
   "source": [
    "scores(best_model,X_train_all_numbers,X_val_all_numbers,y_train,y_val)\n",
    "roc_plot(best_model,X_train_all_numbers,y_train,X_val_all_numbers,y_val)"
   ]
  },
  {
   "cell_type": "code",
   "execution_count": 129,
   "metadata": {},
   "outputs": [
    {
     "name": "stdout",
     "output_type": "stream",
     "text": [
      "train: 0.68 test: 0.66\n",
      "{'C': 6, 'penalty': 'l2'}\n"
     ]
    }
   ],
   "source": [
    "opt_log = LogisticRegression(random_state = 42)\n",
    "\n",
    "penalty = ['l1', 'l2']\n",
    "C = [4,5,6,7,8,9,10,11,20]\n",
    "\n",
    "hyperparameters = dict(C=C, penalty=penalty)\n",
    "\n",
    "opt_model = GridSearchCV(opt_log,hyperparameters,cv=crossvalidation,scoring='roc_auc',return_train_score=True,n_jobs=-1)\n",
    "opt_model.fit(X_train_all_numbers,y_train)\n",
    "best_model = opt_model.best_estimator_\n",
    "\n",
    "scores(best_model,X_train_all_numbers,X_val_all_numbers,y_train,y_val)\n",
    "print(opt_model.best_params_)\n",
    "#opt_plots(opt_model)"
   ]
  },
  {
   "cell_type": "code",
   "execution_count": 130,
   "metadata": {},
   "outputs": [
    {
     "name": "stdout",
     "output_type": "stream",
     "text": [
      "train: 0.68 test: 0.66\n"
     ]
    },
    {
     "data": {
      "image/png": "[encoded data removed]",
      "text/plain": [
       "<Figure size 504x504 with 1 Axes>"
      ]
     },
     "metadata": {
      "needs_background": "light"
     },
     "output_type": "display_data"
    }
   ],
   "source": [
    "scores(best_model,X_train_all_numbers,X_val_all_numbers,y_train,y_val)\n",
    "roc_plot(best_model,X_train_all_numbers,y_train,X_val_all_numbers,y_val)"
   ]
  },
  {
   "cell_type": "code",
   "execution_count": null,
   "metadata": {},
   "outputs": [],
   "source": []
  },
  {
   "cell_type": "markdown",
   "metadata": {},
   "source": [
    "## THE END"
   ]
  },
  {
   "cell_type": "code",
   "execution_count": 131,
   "metadata": {},
   "outputs": [],
   "source": [
    "#from sklearn.model_selection import GridSearchCV"
   ]
  },
  {
   "cell_type": "code",
   "execution_count": 132,
   "metadata": {},
   "outputs": [],
   "source": [
    "#penalty = ['l1', 'l2']"
   ]
  },
  {
   "cell_type": "code",
   "execution_count": 133,
   "metadata": {},
   "outputs": [],
   "source": [
    "#C = [0.001,0.01,0.1,1,10,100,1000]"
   ]
  },
  {
   "cell_type": "code",
   "execution_count": 134,
   "metadata": {},
   "outputs": [],
   "source": [
    "#hyperparameters = dict(C=C, penalty=penalty)"
   ]
  },
  {
   "cell_type": "code",
   "execution_count": 135,
   "metadata": {},
   "outputs": [],
   "source": [
    "#clf = GridSearchCV(log_reg, hyperparameters, cv=crossvalidation)"
   ]
  },
  {
   "cell_type": "code",
   "execution_count": 136,
   "metadata": {},
   "outputs": [],
   "source": [
    "#best_model = clf.fit(X_train_all_numbers, y_train)"
   ]
  },
  {
   "cell_type": "code",
   "execution_count": 137,
   "metadata": {},
   "outputs": [],
   "source": [
    "#print('Best Penalty:', best_model.best_estimator_.get_params()['penalty'])\n",
    "#print('Best C:', best_model.best_estimator_.get_params()['C'])"
   ]
  },
  {
   "cell_type": "code",
   "execution_count": 138,
   "metadata": {},
   "outputs": [],
   "source": [
    "#log_reg = LogisticRegression(C=0.001)\n",
    "#log_reg.fit(X_train_all_numbers, y_train)\n",
    "#y_predicted = log_reg.predict(X_val_all_numbers)\n",
    "#accuracy_score(y_val, y_predicted)"
   ]
  },
  {
   "cell_type": "code",
   "execution_count": null,
   "metadata": {},
   "outputs": [],
   "source": []
  },
  {
   "cell_type": "code",
   "execution_count": null,
   "metadata": {},
   "outputs": [],
   "source": []
  },
  {
   "cell_type": "code",
   "execution_count": null,
   "metadata": {},
   "outputs": [],
   "source": []
  },
  {
   "cell_type": "code",
   "execution_count": null,
   "metadata": {},
   "outputs": [],
   "source": []
  }
 ],
 "metadata": {
  "kernelspec": {
   "display_name": "Python 3",
   "language": "python",
   "name": "python3"
  },
  "language_info": {
   "codemirror_mode": {
    "name": "ipython",
    "version": 3
   },
   "file_extension": ".py",
   "mimetype": "text/x-python",
   "name": "python",
   "nbconvert_exporter": "python",
   "pygments_lexer": "ipython3",
   "version": "3.7.4"
  }
 },
 "nbformat": 4,
 "nbformat_minor": 2
}
